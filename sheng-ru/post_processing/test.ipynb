{
 "cells": [
  {
   "cell_type": "code",
   "execution_count": 2,
   "metadata": {},
   "outputs": [],
   "source": [
    "import os\n",
    "import pandas as pd\n",
    "import datetime as dt\n",
    "import swifter"
   ]
  },
  {
   "cell_type": "code",
   "execution_count": 4,
   "metadata": {},
   "outputs": [
    {
     "ename": "NotADirectoryError",
     "evalue": "[Errno 20] Not a directory: '/home/wmnlab/signal_strength.csv'",
     "output_type": "error",
     "traceback": [
      "\u001b[0;31m---------------------------------------------------------------------------\u001b[0m",
      "\u001b[0;31mNotADirectoryError\u001b[0m                        Traceback (most recent call last)",
      "Cell \u001b[0;32mIn [4], line 4\u001b[0m\n\u001b[1;32m      2\u001b[0m \u001b[39m# which_dir = 'data'\u001b[39;00m\n\u001b[1;32m      3\u001b[0m which_dir \u001b[39m=\u001b[39m \u001b[39m'\u001b[39m\u001b[39mmiddle\u001b[39m\u001b[39m'\u001b[39m\n\u001b[0;32m----> 4\u001b[0m \u001b[39mfor\u001b[39;00m a \u001b[39min\u001b[39;00m \u001b[39msorted\u001b[39m(os\u001b[39m.\u001b[39mlistdir(dirname)):\n\u001b[1;32m      5\u001b[0m     \u001b[39mprint\u001b[39m(a)\n\u001b[1;32m      6\u001b[0m     d0 \u001b[39m=\u001b[39m os\u001b[39m.\u001b[39mpath\u001b[39m.\u001b[39mjoin(dirname, a)\n",
      "\u001b[0;31mNotADirectoryError\u001b[0m: [Errno 20] Not a directory: '/home/wmnlab/signal_strength.csv'"
     ]
    }
   ],
   "source": [
    "dirname = \"/home/wmnlab/signal_strength.csv\"\n",
    "# which_dir = 'data'\n",
    "which_dir = 'middle'\n",
    "for a in sorted(os.listdir(dirname)):\n",
    "    print(a)\n",
    "    d0 = os.path.join(dirname, a)\n",
    "    if a == 'ml_data':\n",
    "        continue\n",
    "    for b in sorted(os.listdir(d0)):\n",
    "        print(os.path.join(d0, b, which_dir))\n",
    "        \n",
    "        "
   ]
  },
  {
   "cell_type": "code",
   "execution_count": 10,
   "metadata": {},
   "outputs": [],
   "source": [
    "f = \"/home/wmnlab/signal_strength.csv\"\n",
    "df = pd.read_csv(f)"
   ]
  },
  {
   "cell_type": "code",
   "execution_count": 11,
   "metadata": {},
   "outputs": [],
   "source": [
    "df[\"time\"] = df[\"time\"].swifter.apply(lambda x: pd.to_datetime(x) + dt.timedelta(hours=8))\n",
    "df = df[df.type_id == 'LTE_PHY_Connected_Mode_Intra_Freq_Meas']\n",
    "df = df.loc[df[\"Serving Cell Index\"]==\"PCell\"]"
   ]
  },
  {
   "cell_type": "code",
   "execution_count": 12,
   "metadata": {},
   "outputs": [
    {
     "data": {
      "text/html": [
       "<div>\n",
       "<style scoped>\n",
       "    .dataframe tbody tr th:only-of-type {\n",
       "        vertical-align: middle;\n",
       "    }\n",
       "\n",
       "    .dataframe tbody tr th {\n",
       "        vertical-align: top;\n",
       "    }\n",
       "\n",
       "    .dataframe thead th {\n",
       "        text-align: right;\n",
       "    }\n",
       "</style>\n",
       "<table border=\"1\" class=\"dataframe\">\n",
       "  <thead>\n",
       "    <tr style=\"text-align: right;\">\n",
       "      <th></th>\n",
       "      <th>time</th>\n",
       "      <th>type_id</th>\n",
       "      <th>PCI</th>\n",
       "      <th>RSRP(dBm)</th>\n",
       "      <th>RSRQ(dB)</th>\n",
       "      <th>Serving Cell Index</th>\n",
       "      <th>EARFCN</th>\n",
       "      <th>Number of Neighbor Cells</th>\n",
       "      <th>Number of Detected Cells</th>\n",
       "      <th>PCI1</th>\n",
       "      <th>...</th>\n",
       "      <th>-.11</th>\n",
       "      <th>-.12</th>\n",
       "      <th>-.13</th>\n",
       "      <th>-.14</th>\n",
       "      <th>-.15</th>\n",
       "      <th>-.16</th>\n",
       "      <th>-.17</th>\n",
       "      <th>-.18</th>\n",
       "      <th>-.19</th>\n",
       "      <th>-.20</th>\n",
       "    </tr>\n",
       "  </thead>\n",
       "  <tbody>\n",
       "    <tr>\n",
       "      <th>1</th>\n",
       "      <td>2022-12-22 15:02:55.258199</td>\n",
       "      <td>LTE_PHY_Connected_Mode_Intra_Freq_Meas</td>\n",
       "      <td>178</td>\n",
       "      <td>-82.125</td>\n",
       "      <td>-12.3125</td>\n",
       "      <td>PCell</td>\n",
       "      <td>3650</td>\n",
       "      <td>2</td>\n",
       "      <td>0</td>\n",
       "      <td>394</td>\n",
       "      <td>...</td>\n",
       "      <td>-</td>\n",
       "      <td>-</td>\n",
       "      <td>-</td>\n",
       "      <td>-</td>\n",
       "      <td>-</td>\n",
       "      <td>-</td>\n",
       "      <td>-</td>\n",
       "      <td>-</td>\n",
       "      <td>-</td>\n",
       "      <td>-</td>\n",
       "    </tr>\n",
       "    <tr>\n",
       "      <th>3</th>\n",
       "      <td>2022-12-22 15:02:55.333240</td>\n",
       "      <td>LTE_PHY_Connected_Mode_Intra_Freq_Meas</td>\n",
       "      <td>178</td>\n",
       "      <td>-82.0</td>\n",
       "      <td>-12.1875</td>\n",
       "      <td>PCell</td>\n",
       "      <td>3650</td>\n",
       "      <td>2</td>\n",
       "      <td>0</td>\n",
       "      <td>394</td>\n",
       "      <td>...</td>\n",
       "      <td>-</td>\n",
       "      <td>-</td>\n",
       "      <td>-</td>\n",
       "      <td>-</td>\n",
       "      <td>-</td>\n",
       "      <td>-</td>\n",
       "      <td>-</td>\n",
       "      <td>-</td>\n",
       "      <td>-</td>\n",
       "      <td>-</td>\n",
       "    </tr>\n",
       "    <tr>\n",
       "      <th>5</th>\n",
       "      <td>2022-12-22 15:02:56.154249</td>\n",
       "      <td>LTE_PHY_Connected_Mode_Intra_Freq_Meas</td>\n",
       "      <td>178</td>\n",
       "      <td>-81.9375</td>\n",
       "      <td>-11.6875</td>\n",
       "      <td>PCell</td>\n",
       "      <td>3650</td>\n",
       "      <td>2</td>\n",
       "      <td>0</td>\n",
       "      <td>394</td>\n",
       "      <td>...</td>\n",
       "      <td>-</td>\n",
       "      <td>-</td>\n",
       "      <td>-</td>\n",
       "      <td>-</td>\n",
       "      <td>-</td>\n",
       "      <td>-</td>\n",
       "      <td>-</td>\n",
       "      <td>-</td>\n",
       "      <td>-</td>\n",
       "      <td>-</td>\n",
       "    </tr>\n",
       "    <tr>\n",
       "      <th>9</th>\n",
       "      <td>2022-12-22 15:02:56.794482</td>\n",
       "      <td>LTE_PHY_Connected_Mode_Intra_Freq_Meas</td>\n",
       "      <td>178</td>\n",
       "      <td>-82.375</td>\n",
       "      <td>-13.6875</td>\n",
       "      <td>PCell</td>\n",
       "      <td>3650</td>\n",
       "      <td>2</td>\n",
       "      <td>0</td>\n",
       "      <td>394</td>\n",
       "      <td>...</td>\n",
       "      <td>-</td>\n",
       "      <td>-</td>\n",
       "      <td>-</td>\n",
       "      <td>-</td>\n",
       "      <td>-</td>\n",
       "      <td>-</td>\n",
       "      <td>-</td>\n",
       "      <td>-</td>\n",
       "      <td>-</td>\n",
       "      <td>-</td>\n",
       "    </tr>\n",
       "    <tr>\n",
       "      <th>13</th>\n",
       "      <td>2022-12-22 15:02:57.434254</td>\n",
       "      <td>LTE_PHY_Connected_Mode_Intra_Freq_Meas</td>\n",
       "      <td>178</td>\n",
       "      <td>-83.4375</td>\n",
       "      <td>-14.0625</td>\n",
       "      <td>PCell</td>\n",
       "      <td>3650</td>\n",
       "      <td>2</td>\n",
       "      <td>0</td>\n",
       "      <td>394</td>\n",
       "      <td>...</td>\n",
       "      <td>-</td>\n",
       "      <td>-</td>\n",
       "      <td>-</td>\n",
       "      <td>-</td>\n",
       "      <td>-</td>\n",
       "      <td>-</td>\n",
       "      <td>-</td>\n",
       "      <td>-</td>\n",
       "      <td>-</td>\n",
       "      <td>-</td>\n",
       "    </tr>\n",
       "    <tr>\n",
       "      <th>...</th>\n",
       "      <td>...</td>\n",
       "      <td>...</td>\n",
       "      <td>...</td>\n",
       "      <td>...</td>\n",
       "      <td>...</td>\n",
       "      <td>...</td>\n",
       "      <td>...</td>\n",
       "      <td>...</td>\n",
       "      <td>...</td>\n",
       "      <td>...</td>\n",
       "      <td>...</td>\n",
       "      <td>...</td>\n",
       "      <td>...</td>\n",
       "      <td>...</td>\n",
       "      <td>...</td>\n",
       "      <td>...</td>\n",
       "      <td>...</td>\n",
       "      <td>...</td>\n",
       "      <td>...</td>\n",
       "      <td>...</td>\n",
       "      <td>...</td>\n",
       "    </tr>\n",
       "    <tr>\n",
       "      <th>2850</th>\n",
       "      <td>2022-12-22 15:11:02.249142</td>\n",
       "      <td>LTE_PHY_Connected_Mode_Intra_Freq_Meas</td>\n",
       "      <td>362</td>\n",
       "      <td>-86.625</td>\n",
       "      <td>-9.5</td>\n",
       "      <td>PCell</td>\n",
       "      <td>1750</td>\n",
       "      <td>4</td>\n",
       "      <td>0</td>\n",
       "      <td>204</td>\n",
       "      <td>...</td>\n",
       "      <td>-</td>\n",
       "      <td>-</td>\n",
       "      <td>-</td>\n",
       "      <td>-</td>\n",
       "      <td>-</td>\n",
       "      <td>-</td>\n",
       "      <td>-</td>\n",
       "      <td>-</td>\n",
       "      <td>-</td>\n",
       "      <td>-</td>\n",
       "    </tr>\n",
       "    <tr>\n",
       "      <th>2856</th>\n",
       "      <td>2022-12-22 15:11:03.529154</td>\n",
       "      <td>LTE_PHY_Connected_Mode_Intra_Freq_Meas</td>\n",
       "      <td>362</td>\n",
       "      <td>-83.8125</td>\n",
       "      <td>-8.5</td>\n",
       "      <td>PCell</td>\n",
       "      <td>1750</td>\n",
       "      <td>3</td>\n",
       "      <td>0</td>\n",
       "      <td>422</td>\n",
       "      <td>...</td>\n",
       "      <td>-</td>\n",
       "      <td>-</td>\n",
       "      <td>-</td>\n",
       "      <td>-</td>\n",
       "      <td>-</td>\n",
       "      <td>-</td>\n",
       "      <td>-</td>\n",
       "      <td>-</td>\n",
       "      <td>-</td>\n",
       "      <td>-</td>\n",
       "    </tr>\n",
       "    <tr>\n",
       "      <th>2860</th>\n",
       "      <td>2022-12-22 15:11:03.553141</td>\n",
       "      <td>LTE_PHY_Connected_Mode_Intra_Freq_Meas</td>\n",
       "      <td>362</td>\n",
       "      <td>-83.6875</td>\n",
       "      <td>-8.5625</td>\n",
       "      <td>PCell</td>\n",
       "      <td>1750</td>\n",
       "      <td>3</td>\n",
       "      <td>0</td>\n",
       "      <td>422</td>\n",
       "      <td>...</td>\n",
       "      <td>-</td>\n",
       "      <td>-</td>\n",
       "      <td>-</td>\n",
       "      <td>-</td>\n",
       "      <td>-</td>\n",
       "      <td>-</td>\n",
       "      <td>-</td>\n",
       "      <td>-</td>\n",
       "      <td>-</td>\n",
       "      <td>-</td>\n",
       "    </tr>\n",
       "    <tr>\n",
       "      <th>2864</th>\n",
       "      <td>2022-12-22 15:11:04.809147</td>\n",
       "      <td>LTE_PHY_Connected_Mode_Intra_Freq_Meas</td>\n",
       "      <td>362</td>\n",
       "      <td>-85.0</td>\n",
       "      <td>-9.3125</td>\n",
       "      <td>PCell</td>\n",
       "      <td>1750</td>\n",
       "      <td>3</td>\n",
       "      <td>0</td>\n",
       "      <td>422</td>\n",
       "      <td>...</td>\n",
       "      <td>-</td>\n",
       "      <td>-</td>\n",
       "      <td>-</td>\n",
       "      <td>-</td>\n",
       "      <td>-</td>\n",
       "      <td>-</td>\n",
       "      <td>-</td>\n",
       "      <td>-</td>\n",
       "      <td>-</td>\n",
       "      <td>-</td>\n",
       "    </tr>\n",
       "    <tr>\n",
       "      <th>2870</th>\n",
       "      <td>2022-12-22 15:11:06.089388</td>\n",
       "      <td>LTE_PHY_Connected_Mode_Intra_Freq_Meas</td>\n",
       "      <td>362</td>\n",
       "      <td>-85.0625</td>\n",
       "      <td>-8.5625</td>\n",
       "      <td>PCell</td>\n",
       "      <td>1750</td>\n",
       "      <td>3</td>\n",
       "      <td>0</td>\n",
       "      <td>422</td>\n",
       "      <td>...</td>\n",
       "      <td>-</td>\n",
       "      <td>-</td>\n",
       "      <td>-</td>\n",
       "      <td>-</td>\n",
       "      <td>-</td>\n",
       "      <td>-</td>\n",
       "      <td>-</td>\n",
       "      <td>-</td>\n",
       "      <td>-</td>\n",
       "      <td>-</td>\n",
       "    </tr>\n",
       "  </tbody>\n",
       "</table>\n",
       "<p>713 rows × 33 columns</p>\n",
       "</div>"
      ],
      "text/plain": [
       "                           time                                 type_id  PCI  \\\n",
       "1    2022-12-22 15:02:55.258199  LTE_PHY_Connected_Mode_Intra_Freq_Meas  178   \n",
       "3    2022-12-22 15:02:55.333240  LTE_PHY_Connected_Mode_Intra_Freq_Meas  178   \n",
       "5    2022-12-22 15:02:56.154249  LTE_PHY_Connected_Mode_Intra_Freq_Meas  178   \n",
       "9    2022-12-22 15:02:56.794482  LTE_PHY_Connected_Mode_Intra_Freq_Meas  178   \n",
       "13   2022-12-22 15:02:57.434254  LTE_PHY_Connected_Mode_Intra_Freq_Meas  178   \n",
       "...                         ...                                     ...  ...   \n",
       "2850 2022-12-22 15:11:02.249142  LTE_PHY_Connected_Mode_Intra_Freq_Meas  362   \n",
       "2856 2022-12-22 15:11:03.529154  LTE_PHY_Connected_Mode_Intra_Freq_Meas  362   \n",
       "2860 2022-12-22 15:11:03.553141  LTE_PHY_Connected_Mode_Intra_Freq_Meas  362   \n",
       "2864 2022-12-22 15:11:04.809147  LTE_PHY_Connected_Mode_Intra_Freq_Meas  362   \n",
       "2870 2022-12-22 15:11:06.089388  LTE_PHY_Connected_Mode_Intra_Freq_Meas  362   \n",
       "\n",
       "     RSRP(dBm)  RSRQ(dB) Serving Cell Index EARFCN Number of Neighbor Cells  \\\n",
       "1      -82.125  -12.3125              PCell   3650                        2   \n",
       "3        -82.0  -12.1875              PCell   3650                        2   \n",
       "5     -81.9375  -11.6875              PCell   3650                        2   \n",
       "9      -82.375  -13.6875              PCell   3650                        2   \n",
       "13    -83.4375  -14.0625              PCell   3650                        2   \n",
       "...        ...       ...                ...    ...                      ...   \n",
       "2850   -86.625      -9.5              PCell   1750                        4   \n",
       "2856  -83.8125      -8.5              PCell   1750                        3   \n",
       "2860  -83.6875   -8.5625              PCell   1750                        3   \n",
       "2864     -85.0   -9.3125              PCell   1750                        3   \n",
       "2870  -85.0625   -8.5625              PCell   1750                        3   \n",
       "\n",
       "     Number of Detected Cells PCI1  ... -.11 -.12 -.13 -.14 -.15 -.16 -.17  \\\n",
       "1                           0  394  ...    -    -    -    -    -    -    -   \n",
       "3                           0  394  ...    -    -    -    -    -    -    -   \n",
       "5                           0  394  ...    -    -    -    -    -    -    -   \n",
       "9                           0  394  ...    -    -    -    -    -    -    -   \n",
       "13                          0  394  ...    -    -    -    -    -    -    -   \n",
       "...                       ...  ...  ...  ...  ...  ...  ...  ...  ...  ...   \n",
       "2850                        0  204  ...    -    -    -    -    -    -    -   \n",
       "2856                        0  422  ...    -    -    -    -    -    -    -   \n",
       "2860                        0  422  ...    -    -    -    -    -    -    -   \n",
       "2864                        0  422  ...    -    -    -    -    -    -    -   \n",
       "2870                        0  422  ...    -    -    -    -    -    -    -   \n",
       "\n",
       "     -.18 -.19 -.20  \n",
       "1       -    -    -  \n",
       "3       -    -    -  \n",
       "5       -    -    -  \n",
       "9       -    -    -  \n",
       "13      -    -    -  \n",
       "...   ...  ...  ...  \n",
       "2850    -    -    -  \n",
       "2856    -    -    -  \n",
       "2860    -    -    -  \n",
       "2864    -    -    -  \n",
       "2870    -    -    -  \n",
       "\n",
       "[713 rows x 33 columns]"
      ]
     },
     "execution_count": 12,
     "metadata": {},
     "output_type": "execute_result"
    }
   ],
   "source": [
    "df"
   ]
  },
  {
   "cell_type": "code",
   "execution_count": 19,
   "metadata": {},
   "outputs": [],
   "source": [
    "f2 = open('/home/wmnlab/ss.csv', 'w')\n",
    "f2.write('time,PCI,EARFCN,RSRP(dBm),RSRQ(dB)\\n')\n",
    "for i in range(len(df)):\n",
    "    t = df[\"time\"].iloc[i]\n",
    "    pci = df[\"PCI\"].iloc[i]\n",
    "    earfcn = df[\"EARFCN\"].iloc[i]\n",
    "    rsrp = df[\"RSRP(dBm)\"].iloc[i]\n",
    "    rsrq = df[\"RSRQ(dB)\"].iloc[i]\n",
    "    \n",
    "    f2.write(','.join(list(str(i) for i in [t,pci,earfcn,rsrp,rsrq+'\\n'])))\n",
    "\n",
    "f2.close()"
   ]
  },
  {
   "cell_type": "code",
   "execution_count": 42,
   "metadata": {},
   "outputs": [],
   "source": [
    "CI_dfs = []\n",
    "for i in range(4):\n",
    "    df = pd.read_csv(All_CI_files[i])\n",
    "    df[\"Date\"] = df[\"Date\"].apply(lambda x: pd.to_datetime(x))\n",
    "    CI_dfs.append(df)\n"
   ]
  },
  {
   "cell_type": "code",
   "execution_count": 18,
   "metadata": {},
   "outputs": [
    {
     "data": {
      "text/plain": [
       "[0, 1]"
      ]
     },
     "execution_count": 18,
     "metadata": {},
     "output_type": "execute_result"
    }
   ],
   "source": [
    "list(i for i in range(2))"
   ]
  },
  {
   "cell_type": "code",
   "execution_count": 53,
   "metadata": {},
   "outputs": [
    {
     "name": "stdout",
     "output_type": "stream",
     "text": [
      "1\n",
      "3\n",
      "5\n",
      "7\n"
     ]
    }
   ],
   "source": [
    "for i in range(1,8, int((8-1)/3)):\n",
    "    print(i)"
   ]
  },
  {
   "cell_type": "code",
   "execution_count": 87,
   "metadata": {},
   "outputs": [],
   "source": [
    "file = \"/home/wmnlab/Code_Test_Space/sheng-ru/test/_Bandlock_Udp/ml_data/label#1.csv\"\n",
    "f = open(file, encoding='utf-8')"
   ]
  },
  {
   "cell_type": "code",
   "execution_count": 84,
   "metadata": {},
   "outputs": [
    {
     "name": "stdout",
     "output_type": "stream",
     "text": [
      "2022-09-29 16:25:28,0.020881235666666685,59,0.019666666666666666,0,0.0,0.026306831159675723,95,0.03348607684173423,163,0.05433333333333333,0.029781691091953996,102,0.036637931034482756,216,0.072,0.019541947333333334,15,0.005,0,0.0,B28\n",
      "\n",
      "2022-09-29 16:25:58,0.0221450646666667,31,0.010333333333333333,0,0.0,0.026386777925975276,48,0.016005335111703902,0,0.0,0.020793779333333335,21,0.007,0,0.0,0.022205444333333355,35,0.011666666666666667,0,0.0,B3\n",
      "\n",
      "2022-09-29 16:26:28,0.02531398466155386,23,0.00766922307435812,0,0.0,0.02818221433333324,18,0.006,0,0.0,0.023159625208402795,3,0.0010003334444814939,0,0.0,0.02620544966666671,68,0.02266666666666667,0,0.0,B3\n",
      "\n",
      "2022-09-29 16:26:58,0.031570458152717557,24,0.008002667555851951,0,0.0,0.034057443943075354,10,0.003471017007983339,112,0.03742064817908453,0.030005720573524575,22,0.007335778592864288,0,0.0,0.030270687895965313,36,0.012004001333777926,0,0.0,B3\n",
      "\n",
      "2022-09-29 16:27:28,0.04019784168956053,136,0.046703296703296704,88,0.029333333333333333,0.1115862713362802,347,0.11798707922475349,64,0.02129783693843594,0.03242738951048946,32,0.011188811188811189,141,0.0469843385538154,0.031493575953678514,34,0.011580381471389645,64,0.021333333333333333,B28\n",
      "\n",
      "2022-09-29 16:27:58,0.03586056885628535,2,0.0006668889629876625,1,0.0003333333333333333,0.03947704466666664,3,0.001,0,0.0,0.03625214776517689,0,0.0,1,0.00033344448149383126,0.03456071647765173,0,0.0,1,0.00033344448149383126,B3\n",
      "\n",
      "2022-09-29 16:28:28,0.03927584638554209,38,0.012717536813922356,10,0.00333555703802535,0.04175432510836946,15,0.005001667222407469,0,0.0,0.03784879293097699,12,0.0040013337779259755,0,0.0,0.036288587195731865,11,0.003667889296432144,0,0.0,B28\n",
      "\n",
      "2022-09-29 16:28:58,0.04149948467688215,5,0.0016655562958027982,0,0.0,0.04498749500333114,12,0.003997335109926716,0,0.0,0.04119609796734421,18,0.005998000666444518,0,0.0,0.03989547184271902,9,0.002999000333222259,0,0.0,All\n",
      "\n"
     ]
    }
   ],
   "source": [
    "l = f.readlines()\n",
    "while l:\n",
    "    l = f.readline()\n",
    "    print(l)"
   ]
  },
  {
   "cell_type": "code",
   "execution_count": 88,
   "metadata": {},
   "outputs": [],
   "source": [
    "l = f.readlines()"
   ]
  },
  {
   "cell_type": "code",
   "execution_count": 95,
   "metadata": {},
   "outputs": [
    {
     "data": {
      "text/plain": [
       "',All'"
      ]
     },
     "execution_count": 95,
     "metadata": {},
     "output_type": "execute_result"
    }
   ],
   "source": [
    "','+l[-1].split(',')[-1]"
   ]
  },
  {
   "cell_type": "code",
   "execution_count": 96,
   "metadata": {},
   "outputs": [],
   "source": [
    "file = \"/home/wmnlab/Code_Test_Space/sheng-ru/test/_Bandlock_Udp/ml_data/input#1.csv\"\n",
    "f = open(file, encoding='utf-8')"
   ]
  },
  {
   "cell_type": "code",
   "execution_count": 97,
   "metadata": {},
   "outputs": [],
   "source": [
    "l = f.readlines()"
   ]
  },
  {
   "cell_type": "code",
   "execution_count": 102,
   "metadata": {},
   "outputs": [
    {
     "data": {
      "text/plain": [
       "',2022-09-29 16:28:58,24.99831775,121.57337811,0.0,1.91,10.81,19.62,1,-94.4375,-7.9375,-94.4375,-94.4375,-7.9375,-7.9375,-,-,-,-,-,-,-,-,-,-,-,-,16,-90.0262706043956,-13.957760989010989,-107.5625,-71.5,-18.25,-9.75,-90.22535211267606,-21.112676056338028,-107.4375,-85.5,-22.5,-20.5625,-91.4296875,-20.8125,-98.3125,-79.5,-19.8125,-22.1875,10,-92.34375,-20.515625,-94.8125,-90.25,-19.4375,-20.4375,-93.18493150684931,-12.529109589041095,-103.5625,-92.1875,-16.9375,-12.0,-93.34375,-21.1171875,-97.25,-91.5,-21.9375,-21.6875'"
      ]
     },
     "execution_count": 102,
     "metadata": {},
     "output_type": "execute_result"
    }
   ],
   "source": [
    "',' + l[-1][:]"
   ]
  },
  {
   "cell_type": "code",
   "execution_count": null,
   "metadata": {},
   "outputs": [],
   "source": []
  }
 ],
 "metadata": {
  "kernelspec": {
   "display_name": "Python 3.8.10 64-bit",
   "language": "python",
   "name": "python3"
  },
  "language_info": {
   "codemirror_mode": {
    "name": "ipython",
    "version": 3
   },
   "file_extension": ".py",
   "mimetype": "text/x-python",
   "name": "python",
   "nbconvert_exporter": "python",
   "pygments_lexer": "ipython3",
   "version": "3.8.10"
  },
  "orig_nbformat": 4,
  "vscode": {
   "interpreter": {
    "hash": "916dbcbb3f70747c44a77c7bcd40155683ae19c65e1c03b4aa3499c5328201f1"
   }
  }
 },
 "nbformat": 4,
 "nbformat_minor": 2
}
