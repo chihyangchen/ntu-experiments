{
 "cells": [
  {
   "cell_type": "code",
   "execution_count": 34,
   "metadata": {},
   "outputs": [],
   "source": [
    "import os\n",
    "import pandas as pd"
   ]
  },
  {
   "cell_type": "code",
   "execution_count": 49,
   "metadata": {},
   "outputs": [
    {
     "name": "stdout",
     "output_type": "stream",
     "text": [
      "/home/wmnlab/Code_Test_Space/sheng-ru/test/_Bandlock_Udp/sm05/#01/data\n",
      "/home/wmnlab/Code_Test_Space/sheng-ru/test/_Bandlock_Udp/sm05/#02/data\n",
      "/home/wmnlab/Code_Test_Space/sheng-ru/test/_Bandlock_Udp/sm06/#01/data\n",
      "/home/wmnlab/Code_Test_Space/sheng-ru/test/_Bandlock_Udp/sm06/#02/data\n",
      "/home/wmnlab/Code_Test_Space/sheng-ru/test/_Bandlock_Udp/sm07/#01/data\n",
      "/home/wmnlab/Code_Test_Space/sheng-ru/test/_Bandlock_Udp/sm07/#02/data\n",
      "/home/wmnlab/Code_Test_Space/sheng-ru/test/_Bandlock_Udp/sm08/#01/data\n",
      "/home/wmnlab/Code_Test_Space/sheng-ru/test/_Bandlock_Udp/sm08/#02/data\n"
     ]
    }
   ],
   "source": [
    "\n",
    "dir = \"/home/wmnlab/Code_Test_Space/sheng-ru/test/_Bandlock_Udp\"\n",
    "All_ml1_files = []\n",
    "All_CI_files = []\n",
    "\n",
    "redo=0\n",
    "CI_down = False\n",
    "for a in sorted(os.listdir(dir)):\n",
    "    if a == 'ml_data':\n",
    "        redo=1\n",
    "        continue\n",
    "    d0 = os.path.join(dir, a)\n",
    "    for b in sorted(os.listdir(d0)):\n",
    "        d00 = os.path.join(d0, b, 'data')\n",
    "        print(d00)\n",
    "        for c in sorted(os.listdir(d00)): \n",
    "            if c.endswith('txt_ml1_new.csv'):\n",
    "                d5 = os.path.join(d00, c)\n",
    "            if c.startswith('cimon') and c.endswith('new.csv') and CI_down == False:\n",
    "                All_CI_files.append(os.path.join(d00,c))\n",
    "                CI_down = True\n",
    "        All_ml1_files.append(d5)\n",
    "        "
   ]
  },
  {
   "cell_type": "code",
   "execution_count": 50,
   "metadata": {},
   "outputs": [
    {
     "data": {
      "text/plain": [
       "['/home/wmnlab/Code_Test_Space/sheng-ru/test/_Bandlock_Udp/sm05/#01/data/cimon_sm05_2022-09-29_16-22-57_new.csv']"
      ]
     },
     "execution_count": 50,
     "metadata": {},
     "output_type": "execute_result"
    }
   ],
   "source": [
    "All_CI_files"
   ]
  },
  {
   "cell_type": "code",
   "execution_count": 35,
   "metadata": {},
   "outputs": [],
   "source": [
    "df = pd.read_csv(x)"
   ]
  },
  {
   "cell_type": "code",
   "execution_count": 39,
   "metadata": {},
   "outputs": [],
   "source": [
    "df[\"Date\"] = df[\"Date\"].apply(lambda x: pd.to_datetime(x))\n"
   ]
  },
  {
   "cell_type": "code",
   "execution_count": 41,
   "metadata": {},
   "outputs": [
    {
     "data": {
      "text/plain": [
       "Timestamp('2022-09-29 16:22:57')"
      ]
     },
     "execution_count": 41,
     "metadata": {},
     "output_type": "execute_result"
    }
   ],
   "source": [
    "df[\"Date\"]"
   ]
  },
  {
   "cell_type": "code",
   "execution_count": 42,
   "metadata": {},
   "outputs": [],
   "source": [
    "CI_dfs = []\n",
    "for i in range(4):\n",
    "    df = pd.read_csv(All_CI_files[i])\n",
    "    df[\"Date\"] = df[\"Date\"].apply(lambda x: pd.to_datetime(x))\n",
    "    CI_dfs.append(df)\n"
   ]
  },
  {
   "cell_type": "code",
   "execution_count": 53,
   "metadata": {},
   "outputs": [
    {
     "name": "stdout",
     "output_type": "stream",
     "text": [
      "1\n",
      "3\n",
      "5\n",
      "7\n"
     ]
    }
   ],
   "source": [
    "for i in range(1,8, int((8-1)/3)):\n",
    "    print(i)"
   ]
  },
  {
   "cell_type": "code",
   "execution_count": 87,
   "metadata": {},
   "outputs": [],
   "source": [
    "file = \"/home/wmnlab/Code_Test_Space/sheng-ru/test/_Bandlock_Udp/ml_data/label#1.csv\"\n",
    "f = open(file, encoding='utf-8')"
   ]
  },
  {
   "cell_type": "code",
   "execution_count": 84,
   "metadata": {},
   "outputs": [
    {
     "name": "stdout",
     "output_type": "stream",
     "text": [
      "2022-09-29 16:25:28,0.020881235666666685,59,0.019666666666666666,0,0.0,0.026306831159675723,95,0.03348607684173423,163,0.05433333333333333,0.029781691091953996,102,0.036637931034482756,216,0.072,0.019541947333333334,15,0.005,0,0.0,B28\n",
      "\n",
      "2022-09-29 16:25:58,0.0221450646666667,31,0.010333333333333333,0,0.0,0.026386777925975276,48,0.016005335111703902,0,0.0,0.020793779333333335,21,0.007,0,0.0,0.022205444333333355,35,0.011666666666666667,0,0.0,B3\n",
      "\n",
      "2022-09-29 16:26:28,0.02531398466155386,23,0.00766922307435812,0,0.0,0.02818221433333324,18,0.006,0,0.0,0.023159625208402795,3,0.0010003334444814939,0,0.0,0.02620544966666671,68,0.02266666666666667,0,0.0,B3\n",
      "\n",
      "2022-09-29 16:26:58,0.031570458152717557,24,0.008002667555851951,0,0.0,0.034057443943075354,10,0.003471017007983339,112,0.03742064817908453,0.030005720573524575,22,0.007335778592864288,0,0.0,0.030270687895965313,36,0.012004001333777926,0,0.0,B3\n",
      "\n",
      "2022-09-29 16:27:28,0.04019784168956053,136,0.046703296703296704,88,0.029333333333333333,0.1115862713362802,347,0.11798707922475349,64,0.02129783693843594,0.03242738951048946,32,0.011188811188811189,141,0.0469843385538154,0.031493575953678514,34,0.011580381471389645,64,0.021333333333333333,B28\n",
      "\n",
      "2022-09-29 16:27:58,0.03586056885628535,2,0.0006668889629876625,1,0.0003333333333333333,0.03947704466666664,3,0.001,0,0.0,0.03625214776517689,0,0.0,1,0.00033344448149383126,0.03456071647765173,0,0.0,1,0.00033344448149383126,B3\n",
      "\n",
      "2022-09-29 16:28:28,0.03927584638554209,38,0.012717536813922356,10,0.00333555703802535,0.04175432510836946,15,0.005001667222407469,0,0.0,0.03784879293097699,12,0.0040013337779259755,0,0.0,0.036288587195731865,11,0.003667889296432144,0,0.0,B28\n",
      "\n",
      "2022-09-29 16:28:58,0.04149948467688215,5,0.0016655562958027982,0,0.0,0.04498749500333114,12,0.003997335109926716,0,0.0,0.04119609796734421,18,0.005998000666444518,0,0.0,0.03989547184271902,9,0.002999000333222259,0,0.0,All\n",
      "\n"
     ]
    }
   ],
   "source": [
    "l = f.readlines()\n",
    "while l:\n",
    "    l = f.readline()\n",
    "    print(l)"
   ]
  },
  {
   "cell_type": "code",
   "execution_count": 88,
   "metadata": {},
   "outputs": [],
   "source": [
    "l = f.readlines()"
   ]
  },
  {
   "cell_type": "code",
   "execution_count": 95,
   "metadata": {},
   "outputs": [
    {
     "data": {
      "text/plain": [
       "',All'"
      ]
     },
     "execution_count": 95,
     "metadata": {},
     "output_type": "execute_result"
    }
   ],
   "source": [
    "','+l[-1].split(',')[-1]"
   ]
  },
  {
   "cell_type": "code",
   "execution_count": 96,
   "metadata": {},
   "outputs": [],
   "source": [
    "file = \"/home/wmnlab/Code_Test_Space/sheng-ru/test/_Bandlock_Udp/ml_data/input#1.csv\"\n",
    "f = open(file, encoding='utf-8')"
   ]
  },
  {
   "cell_type": "code",
   "execution_count": 97,
   "metadata": {},
   "outputs": [],
   "source": [
    "l = f.readlines()"
   ]
  },
  {
   "cell_type": "code",
   "execution_count": 102,
   "metadata": {},
   "outputs": [
    {
     "data": {
      "text/plain": [
       "',2022-09-29 16:28:58,24.99831775,121.57337811,0.0,1.91,10.81,19.62,1,-94.4375,-7.9375,-94.4375,-94.4375,-7.9375,-7.9375,-,-,-,-,-,-,-,-,-,-,-,-,16,-90.0262706043956,-13.957760989010989,-107.5625,-71.5,-18.25,-9.75,-90.22535211267606,-21.112676056338028,-107.4375,-85.5,-22.5,-20.5625,-91.4296875,-20.8125,-98.3125,-79.5,-19.8125,-22.1875,10,-92.34375,-20.515625,-94.8125,-90.25,-19.4375,-20.4375,-93.18493150684931,-12.529109589041095,-103.5625,-92.1875,-16.9375,-12.0,-93.34375,-21.1171875,-97.25,-91.5,-21.9375,-21.6875'"
      ]
     },
     "execution_count": 102,
     "metadata": {},
     "output_type": "execute_result"
    }
   ],
   "source": [
    "',' + l[-1][:]"
   ]
  },
  {
   "cell_type": "code",
   "execution_count": null,
   "metadata": {},
   "outputs": [],
   "source": []
  }
 ],
 "metadata": {
  "kernelspec": {
   "display_name": "Python 3.8.10 64-bit",
   "language": "python",
   "name": "python3"
  },
  "language_info": {
   "codemirror_mode": {
    "name": "ipython",
    "version": 3
   },
   "file_extension": ".py",
   "mimetype": "text/x-python",
   "name": "python",
   "nbconvert_exporter": "python",
   "pygments_lexer": "ipython3",
   "version": "3.8.10"
  },
  "orig_nbformat": 4,
  "vscode": {
   "interpreter": {
    "hash": "916dbcbb3f70747c44a77c7bcd40155683ae19c65e1c03b4aa3499c5328201f1"
   }
  }
 },
 "nbformat": 4,
 "nbformat_minor": 2
}
