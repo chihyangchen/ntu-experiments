{
 "cells": [
  {
   "cell_type": "code",
   "execution_count": 8,
   "metadata": {},
   "outputs": [],
   "source": [
    "import pandas as pd\n",
    "import datetime as dt\n",
    "import swifter\n",
    "from collections import namedtuple\n",
    "import matplotlib.pyplot as plt\n",
    "import numpy as np\n",
    "import csv\n",
    "import ast"
   ]
  },
  {
   "cell_type": "code",
   "execution_count": null,
   "metadata": {},
   "outputs": [],
   "source": [
    "x = input('lll:')\n",
    "while True:\n",
    "    "
   ]
  },
  {
   "cell_type": "code",
   "execution_count": 9,
   "metadata": {},
   "outputs": [
    {
     "data": {
      "text/plain": [
       "'Thu Feb  2 20:09:59 2023'"
      ]
     },
     "execution_count": 9,
     "metadata": {},
     "output_type": "execute_result"
    }
   ],
   "source": [
    "import time\n",
    "x = time.ctime()\n",
    "x"
   ]
  },
  {
   "cell_type": "code",
   "execution_count": 13,
   "metadata": {},
   "outputs": [],
   "source": [
    "x = dt.datetime.now().replace(microsecond=0)"
   ]
  },
  {
   "cell_type": "code",
   "execution_count": 19,
   "metadata": {},
   "outputs": [
    {
     "data": {
      "text/plain": [
       "datetime.datetime(2023, 2, 2, 20, 29, 25)"
      ]
     },
     "execution_count": 19,
     "metadata": {},
     "output_type": "execute_result"
    }
   ],
   "source": [
    "y = dt.datetime.now().replace(microsecond=0)\n",
    "y"
   ]
  },
  {
   "cell_type": "code",
   "execution_count": 16,
   "metadata": {},
   "outputs": [
    {
     "data": {
      "text/plain": [
       "5.0"
      ]
     },
     "execution_count": 16,
     "metadata": {},
     "output_type": "execute_result"
    }
   ],
   "source": [
    "(y-x).total_seconds()"
   ]
  },
  {
   "cell_type": "code",
   "execution_count": 6,
   "metadata": {},
   "outputs": [
    {
     "name": "stdout",
     "output_type": "stream",
     "text": [
      "['time', 'type_id', 'PCI', 'RSRP(dBm)', 'RSRQ(dB)', 'Serving Cell Index', 'EARFCN', 'Number of Neighbor Cells', 'Number of Detected Cells', 'PCI1', 'LTE_RSRP1', 'LTE_RSRQ1']\n"
     ]
    }
   ],
   "source": [
    "x = \"/home/wmnlab/diag_log_sm07_2022-12-22_16-55-29_rrc.csv\"\n",
    "f = open(x)\n",
    "data = csv.reader(f)\n",
    "row0 = next(data)\n",
    "print(row0)    "
   ]
  },
  {
   "cell_type": "code",
   "execution_count": 1,
   "metadata": {},
   "outputs": [],
   "source": [
    "x = '<msg>\\n<packet>\\n  <proto name=\"geninfo\" pos=\"0\" showname=\"General information\" size=\"17\">\\n    <field name=\"num\" pos=\"0\" show=\"0\" showname=\"Number\" value=\"0\" size=\"17\"/>\\n    <field name=\"len\" pos=\"0\" show=\"17\" showname=\"Frame Length\" value=\"11\" size=\"17\"/>\\n    <field name=\"caplen\" pos=\"0\" show=\"17\" showname=\"Captured Length\" value=\"11\" size=\"17\"/>\\n    <field name=\"timestamp\" pos=\"0\" show=\"(0)Jan  1, 1970 08:00:00.000000000 CST\" showname=\"Captured Time\" value=\"0.000000000\" size=\"17\"/>\\n  </proto>\\n  <proto name=\"frame\" showname=\"Frame 0: 17 bytes on wire (136 bits), 17 bytes captured (136 bits)\" size=\"17\" pos=\"0\">\\n    <field name=\"frame.encap_type\" showname=\"Encapsulation type: USER 1 (46)\" size=\"0\" pos=\"0\" show=\"46\"/>\\n    <field name=\"frame.number\" showname=\"Frame Number: 0\" size=\"0\" pos=\"0\" show=\"0\"/>\\n    <field name=\"frame.len\" showname=\"Frame Length: 17 bytes (136 bits)\" size=\"0\" pos=\"0\" show=\"17\"/>\\n    <field name=\"frame.cap_len\" showname=\"Capture Length: 17 bytes (136 bits)\" size=\"0\" pos=\"0\" show=\"17\"/>\\n    <field name=\"frame.marked\" showname=\"Frame is marked: False\" size=\"0\" pos=\"0\" show=\"0\"/>\\n    <field name=\"frame.ignored\" showname=\"Frame is ignored: False\" size=\"0\" pos=\"0\" show=\"0\"/>\\n    <field name=\"frame.protocols\" showname=\"Protocols in frame: user_dlt:aww:lte_rrc\" size=\"0\" pos=\"0\" show=\"user_dlt:aww:lte_rrc\"/>\\n  </proto>\\n  <proto name=\"user_dlt\" showname=\"DLT: 148, Payload: aww (Automator Wireshark Wrapper)\" size=\"17\" pos=\"0\"/>\\n  <proto name=\"aww\" showname=\"Automator Wireshark Wrapper\" size=\"17\" pos=\"0\">\\n    <field name=\"aww.proto\" showname=\"Protocol: 200\" size=\"4\" pos=\"0\" show=\"200\" value=\"000000c8\"/>\\n    <field name=\"aww.data_len\" showname=\"Data length: 9\" size=\"4\" pos=\"4\" show=\"9\" value=\"00000009\"/>\\n  </proto>\\n  <proto name=\"lte_rrc\" showname=\"LTE Radio Resource Control (RRC) protocol\" hide=\"yes\" size=\"9\" pos=\"8\"/>\\n  <proto name=\"fake-field-wrapper\">\\n    <field name=\"lte-rrc.PCCH_Message_element\" showname=\"PCCH-Message\" size=\"6\" pos=\"8\" show=\"\" value=\"\">\\n      <field name=\"per.choice_index\" showname=\"Choice Index: 0\" hide=\"yes\" size=\"1\" pos=\"8\" show=\"0\" value=\"40\"/>\\n      <field name=\"lte-rrc.message\" showname=\"message: c1 (0)\" size=\"6\" pos=\"8\" show=\"0\" value=\"40001c33ba02\">\\n        <field name=\"lte-rrc.c1\" showname=\"c1: paging (0)\" size=\"6\" pos=\"8\" show=\"0\" value=\"40001c33ba02\">\\n          <field name=\"lte-rrc.paging_element\" showname=\"paging\" size=\"6\" pos=\"8\" show=\"\" value=\"\">\\n            <field name=\"per.optional_field_bit\" showname=\".1.. .... Optional Field Bit: True (pagingRecordList is present)\" hide=\"yes\" size=\"1\" pos=\"8\" show=\"1\" value=\"1\" unmaskedvalue=\"40\"/>\\n            <field name=\"per.optional_field_bit\" showname=\"..0. .... Optional Field Bit: False (systemInfoModification is NOT present)\" hide=\"yes\" size=\"1\" pos=\"8\" show=\"0\" value=\"0\" unmaskedvalue=\"40\"/>\\n            <field name=\"per.optional_field_bit\" showname=\"...0 .... Optional Field Bit: False (etws-Indication is NOT present)\" hide=\"yes\" size=\"1\" pos=\"8\" show=\"0\" value=\"0\" unmaskedvalue=\"40\"/>\\n            <field name=\"per.optional_field_bit\" showname=\".... 0... Optional Field Bit: False (nonCriticalExtension is NOT present)\" hide=\"yes\" size=\"1\" pos=\"8\" show=\"0\" value=\"0\" unmaskedvalue=\"40\"/>\\n            <field name=\"per.sequence_of_length\" showname=\"Sequence-Of Length: 1\" hide=\"yes\" size=\"1\" pos=\"8\" show=\"1\" value=\"40\"/>\\n            <field name=\"lte-rrc.pagingRecordList\" showname=\"pagingRecordList: 1 item\" size=\"5\" pos=\"9\" show=\"1\" value=\"001c33ba02\">\\n              <field name=\"\" show=\"Item 0\" size=\"5\" pos=\"9\" value=\"001c33ba02\">\\n                <field name=\"lte-rrc.PagingRecord_element\" showname=\"PagingRecord\" size=\"5\" pos=\"9\" show=\"\" value=\"\">\\n                  <field name=\"per.extension_bit\" showname=\".0.. .... Extension Bit: False\" hide=\"yes\" size=\"1\" pos=\"9\" show=\"0\" value=\"0\" unmaskedvalue=\"00\"/>\\n                  <field name=\"per.extension_bit\" showname=\"..0. .... Extension Bit: False\" hide=\"yes\" size=\"1\" pos=\"9\" show=\"0\" value=\"0\" unmaskedvalue=\"00\"/>\\n                  <field name=\"per.choice_index\" showname=\"Choice Index: 0\" hide=\"yes\" size=\"1\" pos=\"9\" show=\"0\" value=\"00\"/>\\n                  <field name=\"lte-rrc.ue_Identity\" showname=\"ue-Identity: s-TMSI (0)\" size=\"5\" pos=\"9\" show=\"0\" value=\"001c33ba02\">\\n                    <field name=\"lte-rrc.s_TMSI_element\" showname=\"s-TMSI\" size=\"5\" pos=\"9\" show=\"\" value=\"\">\\n                      <field name=\"lte-rrc.mmec\" showname=\"mmec: 01 [bit length 8, 0000 0001 decimal value 1]\" size=\"1\" pos=\"9\" show=\"01\" value=\"01\"/>\\n                      <field name=\"lte-rrc.m_TMSI\" showname=\"m-TMSI: c33ba02a [bit length 32, 1100 0011  0011 1011  1010 0000  0010 1010 decimal value 3275464746]\" size=\"4\" pos=\"9\" show=\"c3:3b:a0:2a\" value=\"c33ba02a\"/>\\n                    </field>\\n                  </field>\\n                  <field name=\"per.enum_index\" showname=\"Enumerated Index: 0\" hide=\"yes\" size=\"1\" pos=\"14\" show=\"0\" value=\"a0\"/>\\n                  <field name=\"lte-rrc.cn_Domain\" showname=\"cn-Domain: ps (0)\" size=\"1\" pos=\"14\" show=\"0\" value=\"a0\"/>\\n                </field>\\n              </field>\\n            </field>\\n          </field>\\n        </field>\\n      </field>\\n  </field>\\n  </proto>\\n</packet>\\n\\n</msg>\\n'"
   ]
  },
  {
   "cell_type": "code",
   "execution_count": 7,
   "metadata": {},
   "outputs": [
    {
     "name": "stdout",
     "output_type": "stream",
     "text": [
      "['', '</msg>']\n"
     ]
    }
   ],
   "source": [
    "print(x.split('\\n'))"
   ]
  },
  {
   "cell_type": "code",
   "execution_count": 12,
   "metadata": {},
   "outputs": [],
   "source": [
    "class abc():\n",
    "    def __init__(self, a:str, b:str):\n",
    "        self.a = a\n",
    "        self.b = b"
   ]
  },
  {
   "cell_type": "code",
   "execution_count": 111,
   "metadata": {},
   "outputs": [],
   "source": [
    "# f = \"/home/wmnlab/diag_log_sm05_2022-12-22_15-02-55.txt_rrc.csv\"\n",
    "f = \"/home/wmnlab/Code_Test_Space/sheng-ru/2022-12-22/_Bandlock_Udp_B1_B3/sm05/#03/middle/diag_log_sm05_2022-12-22_15-19-32.txt_rrc.csv\"\n",
    "df = pd.read_csv(f)\n",
    "df[\"time\"] = df[\"time\"].swifter.apply(lambda x: pd.to_datetime(x) + dt.timedelta(hours=8))"
   ]
  },
  {
   "cell_type": "code",
   "execution_count": 25,
   "metadata": {},
   "outputs": [],
   "source": [
    "x = 3\n",
    "def p():\n",
    "    print(x)"
   ]
  },
  {
   "cell_type": "code",
   "execution_count": 31,
   "metadata": {},
   "outputs": [
    {
     "data": {
      "text/plain": [
       "2"
      ]
     },
     "execution_count": 31,
     "metadata": {},
     "output_type": "execute_result"
    }
   ],
   "source": [
    "x = '[2,3,5]'\n",
    "ast.literal_eval(x)"
   ]
  },
  {
   "cell_type": "code",
   "execution_count": 26,
   "metadata": {},
   "outputs": [
    {
     "name": "stdout",
     "output_type": "stream",
     "text": [
      "3\n",
      "3\n"
     ]
    },
    {
     "data": {
      "text/plain": [
       "3"
      ]
     },
     "execution_count": 26,
     "metadata": {},
     "output_type": "execute_result"
    }
   ],
   "source": [
    "print(x)\n",
    "p()\n",
    "x"
   ]
  },
  {
   "cell_type": "code",
   "execution_count": 113,
   "metadata": {},
   "outputs": [],
   "source": [
    "def parse_mi_ho(df):\n",
    "    def NR_OTA():\n",
    "        if df[\"type_id\"].iloc[i] == \"5G_NR_RRC_OTA_Packet\":\n",
    "            return True\n",
    "        else:\n",
    "            return False\n",
    "\n",
    "    def find_1st_after(target, look_after=1):\n",
    "        for j in range(i, len(df)):\n",
    "            t_ = df[\"time\"].iloc[j]\n",
    "            if (t_ - t).total_seconds() > look_after:\n",
    "                return None, None\n",
    "            if df[target].iloc[j] not in [0,'0']:\n",
    "                return t_, j\n",
    "\n",
    "    def find_1st_before(target, look_before=1):\n",
    "        for j in range(i, -1, -1):\n",
    "            t_ = df[\"time\"].iloc[j]\n",
    "            if (t - t_).total_seconds() > look_before:\n",
    "                return None, None\n",
    "            if df[target].iloc[j] not in [0,'0']:\n",
    "                return t_, j\n",
    "\n",
    "    HO = namedtuple('HO','start, end, others', defaults=(None,None))\n",
    "\n",
    "    D = {\n",
    "        'Conn_Rel':[], \n",
    "        'Conn_Req':[], # Setup\n",
    "        'LTE_HO': [], # LTE -> newLTE\n",
    "        'MN_HO': [], # LTE + NR -> newLTE + NR\n",
    "        'SN_setup': [], # LTE -> LTE + NR => NR setup\n",
    "        'SN_Rel': [], # LTE + NR -> LTE\n",
    "        'SN_HO': [], # LTE + NR -> LTE + newNR\n",
    "        # 'HOF': [], # Didn't defined yet.\n",
    "        'RLF_II': [],\n",
    "        'RLF_III': [],\n",
    "        'SCG_RLF': [],\n",
    "        }\n",
    "\n",
    "    for i in range(len(df)):\n",
    "        if NR_OTA():\n",
    "            continue\n",
    "\n",
    "        t = df[\"time\"].iloc[i]\n",
    "        \n",
    "        if df[\"rrcConnectionRelease\"].iloc[i] == 1:\n",
    "            D['Conn_Rel'].append(HO(start=t))\n",
    "\n",
    "        if df[\"rrcConnectionRequest\"].iloc[i] == 1:\n",
    "            a = find_1st_after('rrcConnectionReconfigurationComplete',look_after=2)[0]\n",
    "            b = find_1st_after('securityModeComplete',look_after=2)[0]\n",
    "            end = a if a > b else b\n",
    "            D['Conn_Req'].append(HO(start=t,end=end))\n",
    "        \n",
    "        if df[\"lte-rrc.t304\"].iloc[i] == 1:\n",
    "            end, _ = find_1st_after('rrcConnectionReconfigurationComplete')\n",
    "            serv_cell, target_cell = df[\"PCI\"].iloc[i], df['lte_targetPhysCellId'].iloc[i]\n",
    "            serv_freq, target_freq = df[\"Freq\"].iloc[i], df['dl-CarrierFreq'].iloc[i]\n",
    "            if df[\"SCellToAddMod-r10\"].iloc[i] == 1:\n",
    "                n =len(str(df[\"SCellIndex-r10.1\"].iloc[i]).split('@'))\n",
    "                others=f'Set up {n} SCell.'\n",
    "            else:\n",
    "                others=None\n",
    "            \n",
    "            if serv_freq != target_freq:\n",
    "                others += \" Inter freq. HO\"\n",
    "            if df[\"nr-rrc.t304\"].iloc[i] == 1 and df[\"dualConnectivityPHR: setup (1)\"].iloc[i] == 1:\n",
    "                if serv_cell == target_cell and serv_freq == target_freq:\n",
    "                    D['eNB_to_ENDC'].append(HO(start=t, end=end, others=others))\n",
    "                    # print(1, t, f\"Serving Cell: {serv_cell}->{target_cell}\")  \n",
    "                else:    \n",
    "                    D['MN_HO'].append(HO(start=t, end=end, others=others))\n",
    "            else:\n",
    "                if serv_cell == target_cell and serv_freq == target_freq:\n",
    "                    a, b = find_1st_before(\"scgFailureInformationNR-r15\")\n",
    "                    if a is not None:\n",
    "                        others += \"Caused by scg-failure.\"\n",
    "                    D['gNB_Rel'].append(HO(start=t, end=end, others=others))\n",
    "                else:\n",
    "                    D['LTE_HO'].append(HO(start=t, end=end, others=others))\n",
    "\n",
    "        if df[\"nr-rrc.t304\"].iloc[i] == 1 and not df[\"dualConnectivityPHR: setup (1)\"].iloc[i] == 1:\n",
    "            end, _ = find_1st_after('rrcConnectionReconfigurationComplete')\n",
    "            D['gNB_HO'].append(HO(start=t,end=end))\n",
    "\n",
    "        if df[\"rrcConnectionReestablishmentRequest\"].iloc[i] == 1:\n",
    "            end, _ = find_1st_after('rrcConnectionReestablishmentComplete', look_after=1)\n",
    "            b, _ = find_1st_after('rrcConnectionReestablishmentReject', look_after=1)\n",
    "            others = df[\"reestablishmentCause\"].iloc[i]\n",
    "            if end is not None: \n",
    "                # Type II\n",
    "                D['RLF_II'].append(HO(start=t,end=end,others=others))\n",
    "            else: \n",
    "                # Type III\n",
    "                D['RLF_III'].append(HO(start=t,end=b,others=others)) # End for Type III?\n",
    "            \n",
    "        if df[\"scgFailureInformationNR-r15\"].iloc[i] == 1:\n",
    "            others = df[\"failureType-r15\"].iloc[i]\n",
    "            D['SCG_RLF'].append(HO(start=t,others=others))\n",
    "    \n",
    "    return D"
   ]
  },
  {
   "cell_type": "code",
   "execution_count": 115,
   "metadata": {},
   "outputs": [],
   "source": [
    "A = parse_mi_ho(df)"
   ]
  },
  {
   "cell_type": "code",
   "execution_count": 133,
   "metadata": {},
   "outputs": [
    {
     "data": {
      "text/plain": [
       "{'Conn_Rel': [HO(start=Timestamp('2022-12-22 15:19:25.390271'), end=None, others=None),\n",
       "  HO(start=Timestamp('2022-12-22 15:25:52.457582'), end=None, others=None)],\n",
       " 'Conn_Req': [HO(start=Timestamp('2022-12-22 15:19:56.591386'), end=Timestamp('2022-12-22 15:19:56.713021'), others=None)],\n",
       " 'LTE_HO': [HO(start=Timestamp('2022-12-22 15:19:57.061383'), end=Timestamp('2022-12-22 15:19:57.101553'), others='Set up 3 SCell.'),\n",
       "  HO(start=Timestamp('2022-12-22 15:21:28.180037'), end=Timestamp('2022-12-22 15:21:28.208750'), others='Set up 3 SCell. Inter freq. HO'),\n",
       "  HO(start=Timestamp('2022-12-22 15:22:23.999133'), end=Timestamp('2022-12-22 15:22:24.031772'), others='Set up 2 SCell.'),\n",
       "  HO(start=Timestamp('2022-12-22 15:23:41.733352'), end=Timestamp('2022-12-22 15:23:41.769395'), others='Set up 3 SCell.'),\n",
       "  HO(start=Timestamp('2022-12-22 15:24:44.910368'), end=Timestamp('2022-12-22 15:24:44.946386'), others='Set up 3 SCell.')],\n",
       " 'MN_HO': [HO(start=Timestamp('2022-12-22 15:19:14.032084'), end=Timestamp('2022-12-22 15:19:14.058822'), others='Set up 1 SCell.'),\n",
       "  HO(start=Timestamp('2022-12-22 15:20:26.974650'), end=Timestamp('2022-12-22 15:20:26.991420'), others='Set up 1 SCell.'),\n",
       "  HO(start=Timestamp('2022-12-22 15:20:34.987508'), end=Timestamp('2022-12-22 15:20:35.005332'), others='Set up 1 SCell.'),\n",
       "  HO(start=Timestamp('2022-12-22 15:20:39.018799'), end=Timestamp('2022-12-22 15:20:39.035323'), others='Set up 1 SCell.'),\n",
       "  HO(start=Timestamp('2022-12-22 15:20:48.780163'), end=Timestamp('2022-12-22 15:20:48.797117'), others='Set up 1 SCell.'),\n",
       "  HO(start=Timestamp('2022-12-22 15:20:49.150474'), end=Timestamp('2022-12-22 15:20:49.167143'), others='Set up 1 SCell.'),\n",
       "  HO(start=Timestamp('2022-12-22 15:21:06.885801'), end=Timestamp('2022-12-22 15:21:06.904129'), others='Set up 1 SCell.'),\n",
       "  HO(start=Timestamp('2022-12-22 15:21:08.470194'), end=Timestamp('2022-12-22 15:21:08.487051'), others='Set up 1 SCell.'),\n",
       "  HO(start=Timestamp('2022-12-22 15:21:11.036728'), end=Timestamp('2022-12-22 15:21:11.076288'), others='Set up 1 SCell. Inter freq. HO'),\n",
       "  HO(start=Timestamp('2022-12-22 15:21:11.697090'), end=Timestamp('2022-12-22 15:21:11.713193'), others='Set up 1 SCell.'),\n",
       "  HO(start=Timestamp('2022-12-22 15:21:32.150377'), end=Timestamp('2022-12-22 15:21:32.166961'), others='Set up 1 SCell.'),\n",
       "  HO(start=Timestamp('2022-12-22 15:21:34.155257'), end=Timestamp('2022-12-22 15:21:34.171980'), others='Set up 1 SCell.'),\n",
       "  HO(start=Timestamp('2022-12-22 15:22:08.055277'), end=Timestamp('2022-12-22 15:22:08.071870'), others='Set up 1 SCell.'),\n",
       "  HO(start=Timestamp('2022-12-22 15:22:32.431841'), end=Timestamp('2022-12-22 15:22:32.448915'), others='Set up 1 SCell.'),\n",
       "  HO(start=Timestamp('2022-12-22 15:23:28.520871'), end=Timestamp('2022-12-22 15:23:28.537728'), others='Set up 1 SCell.'),\n",
       "  HO(start=Timestamp('2022-12-22 15:23:47.110325'), end=Timestamp('2022-12-22 15:23:47.127641'), others='Set up 1 SCell.'),\n",
       "  HO(start=Timestamp('2022-12-22 15:24:38.069416'), end=Timestamp('2022-12-22 15:24:38.087135'), others='Set up 1 SCell.'),\n",
       "  HO(start=Timestamp('2022-12-22 15:24:47.459140'), end=Timestamp('2022-12-22 15:24:47.475276'), others='Set up 1 SCell.'),\n",
       "  HO(start=Timestamp('2022-12-22 15:24:49.855438'), end=Timestamp('2022-12-22 15:24:49.872086'), others='Set up 1 SCell.'),\n",
       "  HO(start=Timestamp('2022-12-22 15:24:54.055355'), end=Timestamp('2022-12-22 15:24:54.070266'), others='Set up 1 SCell.')],\n",
       " 'eNB_to_ENDC': [HO(start=Timestamp('2022-12-22 15:19:15.187618'), end=Timestamp('2022-12-22 15:19:15.207854'), others='Set up 1 SCell.'),\n",
       "  HO(start=Timestamp('2022-12-22 15:19:56.907081'), end=Timestamp('2022-12-22 15:19:56.947775'), others='Set up 1 SCell.'),\n",
       "  HO(start=Timestamp('2022-12-22 15:19:57.546284'), end=Timestamp('2022-12-22 15:19:57.586656'), others='Set up 1 SCell.'),\n",
       "  HO(start=Timestamp('2022-12-22 15:21:18.265284'), end=Timestamp('2022-12-22 15:21:18.311377'), others='Set up 1 SCell.'),\n",
       "  HO(start=Timestamp('2022-12-22 15:21:28.405242'), end=Timestamp('2022-12-22 15:21:28.426514'), others='Set up 1 SCell.'),\n",
       "  HO(start=Timestamp('2022-12-22 15:21:40.299629'), end=Timestamp('2022-12-22 15:21:40.337536'), others='Set up 1 SCell.'),\n",
       "  HO(start=Timestamp('2022-12-22 15:22:24.254615'), end=Timestamp('2022-12-22 15:22:24.295553'), others='Set up 1 SCell.'),\n",
       "  HO(start=Timestamp('2022-12-22 15:23:42.146889'), end=Timestamp('2022-12-22 15:23:42.186789'), others='Set up 1 SCell.'),\n",
       "  HO(start=Timestamp('2022-12-22 15:24:45.274409'), end=Timestamp('2022-12-22 15:24:45.316392'), others='Set up 1 SCell.')],\n",
       " 'gNB_Rel': [HO(start=Timestamp('2022-12-22 15:21:16.457800'), end=Timestamp('2022-12-22 15:21:16.493833'), others='Set up 3 SCell.')],\n",
       " 'gNB_HO': [HO(start=Timestamp('2022-12-22 15:20:10.182948'), end=Timestamp('2022-12-22 15:20:10.199359'), others=None),\n",
       "  HO(start=Timestamp('2022-12-22 15:20:25.803919'), end=Timestamp('2022-12-22 15:20:25.820452'), others=None),\n",
       "  HO(start=Timestamp('2022-12-22 15:21:31.465596'), end=Timestamp('2022-12-22 15:21:31.483267'), others=None),\n",
       "  HO(start=Timestamp('2022-12-22 15:22:06.892612'), end=Timestamp('2022-12-22 15:22:06.908990'), others=None),\n",
       "  HO(start=Timestamp('2022-12-22 15:22:33.195448'), end=Timestamp('2022-12-22 15:22:33.212767'), others=None),\n",
       "  HO(start=Timestamp('2022-12-22 15:23:27.656307'), end=Timestamp('2022-12-22 15:23:27.674319'), others=None),\n",
       "  HO(start=Timestamp('2022-12-22 15:24:39.726810'), end=Timestamp('2022-12-22 15:24:39.743316'), others=None),\n",
       "  HO(start=Timestamp('2022-12-22 15:24:44.830043'), end=Timestamp('2022-12-22 15:24:44.845314'), others=None),\n",
       "  HO(start=Timestamp('2022-12-22 15:24:50.631738'), end=Timestamp('2022-12-22 15:24:50.648053'), others=None),\n",
       "  HO(start=Timestamp('2022-12-22 15:24:54.836732'), end=Timestamp('2022-12-22 15:24:54.851904'), others=None),\n",
       "  HO(start=Timestamp('2022-12-22 15:25:25.687641'), end=Timestamp('2022-12-22 15:25:25.703770'), others=None),\n",
       "  HO(start=Timestamp('2022-12-22 15:25:28.978817'), end=Timestamp('2022-12-22 15:25:28.996303'), others=None),\n",
       "  HO(start=Timestamp('2022-12-22 15:25:31.879585'), end=Timestamp('2022-12-22 15:25:31.897500'), others=None)],\n",
       " 'RLF_II': [HO(start=Timestamp('2022-12-22 15:19:14.910143'), end=Timestamp('2022-12-22 15:19:14.980754'), others='otherFailure (2)'),\n",
       "  HO(start=Timestamp('2022-12-22 15:21:17.388765'), end=Timestamp('2022-12-22 15:21:17.473298'), others='otherFailure (2)'),\n",
       "  HO(start=Timestamp('2022-12-22 15:21:27.319390'), end=Timestamp('2022-12-22 15:21:27.390316'), others='otherFailure (2)'),\n",
       "  HO(start=Timestamp('2022-12-22 15:21:40.008372'), end=Timestamp('2022-12-22 15:21:40.086385'), others='otherFailure (2)')],\n",
       " 'RLF_III': [],\n",
       " 'SCG_RLF': [HO(start=Timestamp('2022-12-22 15:21:39.315687'), end=None, others='t310-Expiry (0)')]}"
      ]
     },
     "execution_count": 133,
     "metadata": {},
     "output_type": "execute_result"
    }
   ],
   "source": [
    "A"
   ]
  },
  {
   "cell_type": "code",
   "execution_count": 50,
   "metadata": {},
   "outputs": [],
   "source": [
    "f1 = \"/home/wmnlab/test1.csv\"\n",
    "f2 = \"/home/wmnlab/test2.csv\"\n",
    "f3 = \"/home/wmnlab/test3.csv\"\n",
    "df1 = pd.read_csv(f1)\n",
    "df1[\"Timestamp\"] = df1[\"Timestamp\"].swifter.apply(lambda x: pd.to_datetime(x))\n",
    "df2 = pd.read_csv(f2)\n",
    "df2[\"Timestamp\"] = df2[\"Timestamp\"].swifter.apply(lambda x: pd.to_datetime(x))\n",
    "df3 = pd.read_csv(f3)\n",
    "df3[\"Timestamp\"] = df3[\"Timestamp\"].swifter.apply(lambda x: pd.to_datetime(x))"
   ]
  },
  {
   "cell_type": "code",
   "execution_count": 51,
   "metadata": {},
   "outputs": [],
   "source": [
    "a = list(df1[\"lat\"])\n",
    "b = list(df3[\"lat\"])\n",
    "# c = "
   ]
  },
  {
   "cell_type": "code",
   "execution_count": 100,
   "metadata": {},
   "outputs": [],
   "source": [
    "def correlations(a, b):\n",
    "    length = len(a) if len(a)<len(b) else len(b)\n",
    "    if length == len(a):\n",
    "        return np.corrcoef(a,b[:len(a)])\n",
    "    else:\n",
    "        return np.corrcoef(a[:len(b)],b)\n",
    "\n",
    "def gps_leg_corres(a, b, search=30): \n",
    "    corres = []\n",
    "    legs = list(range(-search,search+1))\n",
    "    for i in range(-search,search+1):\n",
    "        if i<0:\n",
    "            corres.append(correlations(a[-i:], b[:])[0,1])\n",
    "        else:\n",
    "            corres.append(correlations(a[:], b[i:])[0,1])\n",
    "    index_max = max(range(len(corres)), key=corres.__getitem__)\n",
    "\n",
    "    return legs[index_max]\n"
   ]
  },
  {
   "cell_type": "code",
   "execution_count": 101,
   "metadata": {},
   "outputs": [],
   "source": [
    "x = gps_leg_corres(a,b)"
   ]
  },
  {
   "cell_type": "code",
   "execution_count": 103,
   "metadata": {},
   "outputs": [],
   "source": [
    "if x < 0:\n",
    "    x1 = list(df1[\"DL-lat\"].iloc[-x:])\n",
    "    x2 = list(df3[\"DL-lat\"].iloc[:])\n",
    "else:\n",
    "    x1 = list(df1[\"DL-lat\"].iloc[:])\n",
    "    x2 = list(df3[\"DL-lat\"].iloc[x:])"
   ]
  },
  {
   "cell_type": "code",
   "execution_count": 109,
   "metadata": {},
   "outputs": [
    {
     "data": {
      "text/plain": [
       "[<matplotlib.lines.Line2D at 0x7fdd9fb8c670>]"
      ]
     },
     "execution_count": 109,
     "metadata": {},
     "output_type": "execute_result"
    },
    {
     "data": {
      "image/png": "[encoded data removed]",
      "text/plain": [
       "<Figure size 640x480 with 2 Axes>"
      ]
     },
     "metadata": {},
     "output_type": "display_data"
    }
   ],
   "source": [
    "fig, axs = plt.subplots(2,1)\n",
    "axs[0].plot(df1[\"DL-lat\"].iloc[:])\n",
    "axs[1].plot(df3[\"DL-lat\"].iloc[:])"
   ]
  },
  {
   "cell_type": "code",
   "execution_count": 108,
   "metadata": {},
   "outputs": [
    {
     "data": {
      "text/plain": [
       "[<matplotlib.lines.Line2D at 0x7fdd9fca2eb0>]"
      ]
     },
     "execution_count": 108,
     "metadata": {},
     "output_type": "execute_result"
    },
    {
     "data": {
      "image/png": "[encoded data removed]",
      "text/plain": [
       "<Figure size 640x480 with 2 Axes>"
      ]
     },
     "metadata": {},
     "output_type": "display_data"
    }
   ],
   "source": [
    "fig, axs = plt.subplots(2,1)\n",
    "axs[0].plot(x1)\n",
    "axs[1].plot(x2)"
   ]
  },
  {
   "cell_type": "code",
   "execution_count": null,
   "metadata": {},
   "outputs": [],
   "source": []
  }
 ],
 "metadata": {
  "kernelspec": {
   "display_name": "Python 3.8.10 64-bit",
   "language": "python",
   "name": "python3"
  },
  "language_info": {
   "codemirror_mode": {
    "name": "ipython",
    "version": 3
   },
   "file_extension": ".py",
   "mimetype": "text/x-python",
   "name": "python",
   "nbconvert_exporter": "python",
   "pygments_lexer": "ipython3",
   "version": "3.8.10"
  },
  "orig_nbformat": 4,
  "vscode": {
   "interpreter": {
    "hash": "916dbcbb3f70747c44a77c7bcd40155683ae19c65e1c03b4aa3499c5328201f1"
   }
  }
 },
 "nbformat": 4,
 "nbformat_minor": 2
}
