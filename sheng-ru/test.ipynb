{
 "cells": [
  {
   "cell_type": "code",
   "execution_count": 1,
   "metadata": {},
   "outputs": [],
   "source": [
    "import pandas as pd\n",
    "import datetime as dt\n",
    "import swifter\n",
    "from collections import namedtuple\n",
    "import matplotlib.pyplot as plt\n",
    "import numpy as np\n",
    "import csv"
   ]
  },
  {
   "cell_type": "code",
   "execution_count": 4,
   "metadata": {},
   "outputs": [],
   "source": [
    "def foo(flag):\n",
    "    if flag:\n",
    "        return (1,2)\n",
    "    else:\n",
    "        return None"
   ]
  },
  {
   "cell_type": "code",
   "execution_count": 8,
   "metadata": {},
   "outputs": [
    {
     "data": {
      "text/plain": [
       "(None, None)"
      ]
     },
     "execution_count": 8,
     "metadata": {},
     "output_type": "execute_result"
    }
   ],
   "source": [
    "a, b = foo(False) or (None,None)\n",
    "a, b"
   ]
  },
  {
   "cell_type": "code",
   "execution_count": 2,
   "metadata": {},
   "outputs": [],
   "source": [
    "f='/home/wmnlab/switch_band_test/2/udp_uplk_combo_loss_latency.csv'\n",
    "df=pd.read_csv(f)\n",
    "df['Timestamp'] = pd.to_datetime(df['Timestamp'])"
   ]
  },
  {
   "cell_type": "code",
   "execution_count": null,
   "metadata": {},
   "outputs": [],
   "source": [
    "# plt.plot(df['Timestamp'],df['latency.qc00.qc01'])\n",
    "# plt.plot(df['Timestamp'], df['latency.qc00'])\n",
    "plt.plot(df['Timestamp'], df['latency.qc01'])\n",
    "plt.gcf().autofmt_xdate()"
   ]
  },
  {
   "cell_type": "code",
   "execution_count": 3,
   "metadata": {},
   "outputs": [],
   "source": [
    "def parse_mi_ho(df):\n",
    "    def NR_OTA():\n",
    "        if df[\"type_id\"].iloc[i] == \"5G_NR_RRC_OTA_Packet\":\n",
    "            return True\n",
    "        else:\n",
    "            return False\n",
    "\n",
    "    def find_1st_after(target, look_after=1):\n",
    "        for j in range(i, len(df)):\n",
    "            t_ = df[\"time\"].iloc[j]\n",
    "            if (t_ - t).total_seconds() > look_after:\n",
    "                return None, None\n",
    "            if df[target].iloc[j] not in [0,'0']:\n",
    "                return t_, j\n",
    "\n",
    "    def find_1st_before(target, look_before=1):\n",
    "        for j in range(i, -1, -1):\n",
    "            t_ = df[\"time\"].iloc[j]\n",
    "            if (t - t_).total_seconds() > look_before:\n",
    "                return None, None\n",
    "            if df[target].iloc[j] not in [0,'0']:\n",
    "                return t_, j\n",
    "\n",
    "    HO = namedtuple('HO','start, end, others', defaults=(None,None))\n",
    "\n",
    "    D = {\n",
    "        'Conn_Rel':[], \n",
    "        'Conn_Req':[], # Setup\n",
    "        'LTE_HO': [], # LTE -> newLTE\n",
    "        'MN_HO': [], # LTE + NR -> newLTE + NR\n",
    "        'SN_setup': [], # LTE -> LTE + NR => NR setup\n",
    "        'SN_Rel': [], # LTE + NR -> LTE\n",
    "        'SN_HO': [], # LTE + NR -> LTE + newNR\n",
    "        # 'HOF': [], # Didn't defined yet.\n",
    "        'RLF_II': [],\n",
    "        'RLF_III': [],\n",
    "        'SCG_RLF': [],\n",
    "        }\n",
    "\n",
    "    for i in range(len(df)):\n",
    "        if NR_OTA():\n",
    "            continue\n",
    "\n",
    "        t = df[\"time\"].iloc[i]\n",
    "        \n",
    "        if df[\"rrcConnectionRelease\"].iloc[i] == 1:\n",
    "            D['Conn_Rel'].append(HO(start=t))\n",
    "\n",
    "        if df[\"rrcConnectionRequest\"].iloc[i] == 1:\n",
    "            a = find_1st_after('rrcConnectionReconfigurationComplete',look_after=2)[0]\n",
    "            b = find_1st_after('securityModeComplete',look_after=2)[0]\n",
    "            end = a if a > b else b\n",
    "            D['Conn_Req'].append(HO(start=t,end=end))\n",
    "        \n",
    "        if df[\"lte-rrc.t304\"].iloc[i] == 1:\n",
    "            end, _ = find_1st_after('rrcConnectionReconfigurationComplete')\n",
    "            serv_cell, target_cell = df[\"PCI\"].iloc[i], df['lte_targetPhysCellId'].iloc[i]\n",
    "            serv_freq, target_freq = df[\"Freq\"].iloc[i], df['dl-CarrierFreq'].iloc[i]\n",
    "            if df[\"SCellToAddMod-r10\"].iloc[i] == 1:\n",
    "                n =len(str(df[\"SCellIndex-r10.1\"].iloc[i]).split('@'))\n",
    "                others=f'Set up {n} SCell.'\n",
    "            else:\n",
    "                others=None\n",
    "            \n",
    "            if serv_freq != target_freq:\n",
    "                others += \" Inter freq. HO\"\n",
    "            if df[\"nr-rrc.t304\"].iloc[i] == 1 and df[\"dualConnectivityPHR: setup (1)\"].iloc[i] == 1:\n",
    "                if serv_cell == target_cell and serv_freq == target_freq:\n",
    "                    D['SN_setup'].append(HO(start=t, end=end, others=others))\n",
    "                    # print(1, t, f\"Serving Cell: {serv_cell}->{target_cell}\")  \n",
    "                else:    \n",
    "                    D['MN_HO'].append(HO(start=t, end=end, others=others))\n",
    "            else:\n",
    "                if serv_cell == target_cell and serv_freq == target_freq:\n",
    "                    a, b = find_1st_before(\"scgFailureInformationNR-r15\")\n",
    "                    if a is not None:\n",
    "                        others += \"Caused by scg-failure.\"\n",
    "                    D['SN_Rel'].append(HO(start=t, end=end, others=others))\n",
    "                else:\n",
    "                    D['LTE_HO'].append(HO(start=t, end=end, others=others))\n",
    "\n",
    "        if df[\"nr-rrc.t304\"].iloc[i] == 1 and not df[\"dualConnectivityPHR: setup (1)\"].iloc[i] == 1:\n",
    "            end, _ = find_1st_after('rrcConnectionReconfigurationComplete')\n",
    "            D['SN_HO'].append(HO(start=t,end=end))\n",
    "\n",
    "        if df[\"rrcConnectionReestablishmentRequest\"].iloc[i] == 1:\n",
    "            end, _ = find_1st_after('rrcConnectionReestablishmentComplete', look_after=1)\n",
    "            b, _ = find_1st_after('rrcConnectionReestablishmentReject', look_after=1)\n",
    "            others = df[\"reestablishmentCause\"].iloc[i]\n",
    "            if end is not None: \n",
    "                # Type II\n",
    "                D['RLF_II'].append(HO(start=t,end=end,others=others))\n",
    "            else: \n",
    "                # Type III\n",
    "                D['RLF_III'].append(HO(start=t,end=b,others=others)) # End for Type III?\n",
    "            \n",
    "        if df[\"scgFailureInformationNR-r15\"].iloc[i] == 1:\n",
    "            others = df[\"failureType-r15\"].iloc[i]\n",
    "            D['SCG_RLF'].append(HO(start=t,others=others))\n",
    "    \n",
    "    return D"
   ]
  },
  {
   "cell_type": "code",
   "execution_count": 4,
   "metadata": {},
   "outputs": [],
   "source": [
    "f = '/home/wmnlab/diag_log_qc01_2023-02-04_14-57-22.mi2log_rrc.csv'\n",
    "df = pd.read_csv(f)\n",
    "df[\"time\"] = df[\"time\"].swifter.apply(lambda x: pd.to_datetime(x) + dt.timedelta(hours=8))\n",
    "\n",
    "A = parse_mi_ho(df)"
   ]
  },
  {
   "cell_type": "code",
   "execution_count": 5,
   "metadata": {},
   "outputs": [
    {
     "data": {
      "text/plain": [
       "{'Conn_Rel': [HO(start=Timestamp('2023-02-04 14:57:13.620936'), end=None, others=None),\n",
       "  HO(start=Timestamp('2023-02-04 14:57:47.035910'), end=None, others=None),\n",
       "  HO(start=Timestamp('2023-02-04 14:58:30.892684'), end=None, others=None)],\n",
       " 'Conn_Req': [HO(start=Timestamp('2023-02-04 14:56:59.841391'), end=Timestamp('2023-02-04 14:56:59.965097'), others=None),\n",
       "  HO(start=Timestamp('2023-02-04 14:57:35.682758'), end=Timestamp('2023-02-04 14:57:35.804586'), others=None),\n",
       "  HO(start=Timestamp('2023-02-04 14:57:50.837624'), end=Timestamp('2023-02-04 14:57:50.962018'), others=None),\n",
       "  HO(start=Timestamp('2023-02-04 14:58:31.364230'), end=Timestamp('2023-02-04 14:58:31.483804'), others=None)],\n",
       " 'LTE_HO': [HO(start=Timestamp('2023-02-04 15:02:10.078149'), end=Timestamp('2023-02-04 15:02:10.099152'), others='Set up 1 SCell.'),\n",
       "  HO(start=Timestamp('2023-02-04 15:02:31.501751'), end=Timestamp('2023-02-04 15:02:31.535740'), others='Set up 1 SCell.')],\n",
       " 'MN_HO': [HO(start=Timestamp('2023-02-04 14:59:20.440386'), end=Timestamp('2023-02-04 14:59:20.456929'), others=None),\n",
       "  HO(start=Timestamp('2023-02-04 14:59:47.038340'), end=Timestamp('2023-02-04 14:59:47.057633'), others=None),\n",
       "  HO(start=Timestamp('2023-02-04 14:59:56.804336'), end=Timestamp('2023-02-04 14:59:56.820068'), others=None),\n",
       "  HO(start=Timestamp('2023-02-04 15:00:21.536527'), end=Timestamp('2023-02-04 15:00:21.555420'), others=None),\n",
       "  HO(start=Timestamp('2023-02-04 15:01:03.385170'), end=Timestamp('2023-02-04 15:01:03.400628'), others=None),\n",
       "  HO(start=Timestamp('2023-02-04 15:01:06.191591'), end=Timestamp('2023-02-04 15:01:06.210286'), others=None),\n",
       "  HO(start=Timestamp('2023-02-04 15:01:09.857903'), end=Timestamp('2023-02-04 15:01:09.876326'), others=None),\n",
       "  HO(start=Timestamp('2023-02-04 15:01:57.569546'), end=Timestamp('2023-02-04 15:01:57.589059'), others=None),\n",
       "  HO(start=Timestamp('2023-02-04 15:02:53.684548'), end=Timestamp('2023-02-04 15:02:53.702792'), others=None),\n",
       "  HO(start=Timestamp('2023-02-04 15:03:11.895224'), end=Timestamp('2023-02-04 15:03:11.911979'), others=None),\n",
       "  HO(start=Timestamp('2023-02-04 15:03:20.037132'), end=Timestamp('2023-02-04 15:03:20.056671'), others=None),\n",
       "  HO(start=Timestamp('2023-02-04 15:04:14.898018'), end=Timestamp('2023-02-04 15:04:14.917533'), others=None),\n",
       "  HO(start=Timestamp('2023-02-04 15:04:27.797040'), end=Timestamp('2023-02-04 15:04:27.816431'), others=None),\n",
       "  HO(start=Timestamp('2023-02-04 15:04:42.969265'), end=Timestamp('2023-02-04 15:04:42.988183'), others=None),\n",
       "  HO(start=Timestamp('2023-02-04 15:04:46.894297'), end=Timestamp('2023-02-04 15:04:46.913168'), others=None),\n",
       "  HO(start=Timestamp('2023-02-04 15:05:32.543873'), end=Timestamp('2023-02-04 15:05:32.563007'), others=None),\n",
       "  HO(start=Timestamp('2023-02-04 15:05:37.186825'), end=Timestamp('2023-02-04 15:05:37.205854'), others=None),\n",
       "  HO(start=Timestamp('2023-02-04 15:05:40.950740'), end=Timestamp('2023-02-04 15:05:40.969027'), others=None)],\n",
       " 'SN_setup': [HO(start=Timestamp('2023-02-04 14:57:00.097930'), end=Timestamp('2023-02-04 14:57:00.106284'), others=None),\n",
       "  HO(start=Timestamp('2023-02-04 14:57:35.947993'), end=Timestamp('2023-02-04 14:57:35.957008'), others=None),\n",
       "  HO(start=Timestamp('2023-02-04 14:57:51.094442'), end=Timestamp('2023-02-04 14:57:51.103066'), others=None),\n",
       "  HO(start=Timestamp('2023-02-04 14:58:31.633836'), end=Timestamp('2023-02-04 14:58:31.642059'), others=None),\n",
       "  HO(start=Timestamp('2023-02-04 15:00:23.508101'), end=Timestamp('2023-02-04 15:00:23.524533'), others=None),\n",
       "  HO(start=Timestamp('2023-02-04 15:01:59.214423'), end=Timestamp('2023-02-04 15:01:59.250423'), others=None),\n",
       "  HO(start=Timestamp('2023-02-04 15:02:10.387581'), end=Timestamp('2023-02-04 15:02:10.405286'), others=None),\n",
       "  HO(start=Timestamp('2023-02-04 15:02:25.053150'), end=Timestamp('2023-02-04 15:02:25.069177'), others=None),\n",
       "  HO(start=Timestamp('2023-02-04 15:02:31.836558'), end=Timestamp('2023-02-04 15:02:31.854187'), others=None),\n",
       "  HO(start=Timestamp('2023-02-04 15:02:53.231379'), end=Timestamp('2023-02-04 15:02:53.249097'), others=None)],\n",
       " 'SN_Rel': [HO(start=Timestamp('2023-02-04 15:00:23.172637'), end=Timestamp('2023-02-04 15:00:23.209646'), others='Set up 1 SCell.'),\n",
       "  HO(start=Timestamp('2023-02-04 15:02:09.784118'), end=Timestamp('2023-02-04 15:02:09.825366'), others='Set up 1 SCell.'),\n",
       "  HO(start=Timestamp('2023-02-04 15:02:24.715834'), end=Timestamp('2023-02-04 15:02:24.751456'), others='Set up 1 SCell.'),\n",
       "  HO(start=Timestamp('2023-02-04 15:02:52.923810'), end=Timestamp('2023-02-04 15:02:52.962082'), others='Set up 1 SCell.'),\n",
       "  HO(start=Timestamp('2023-02-04 15:07:09.812749'), end=Timestamp('2023-02-04 15:07:09.851909'), others='Set up 1 SCell.')],\n",
       " 'SN_HO': [HO(start=Timestamp('2023-02-04 15:01:11.049305'), end=Timestamp('2023-02-04 15:01:11.064459'), others=None),\n",
       "  HO(start=Timestamp('2023-02-04 15:01:24.427149'), end=Timestamp('2023-02-04 15:01:24.442571'), others=None),\n",
       "  HO(start=Timestamp('2023-02-04 15:01:48.315856'), end=Timestamp('2023-02-04 15:01:48.330156'), others=None),\n",
       "  HO(start=Timestamp('2023-02-04 15:02:28.075095'), end=Timestamp('2023-02-04 15:02:28.093208'), others=None),\n",
       "  HO(start=Timestamp('2023-02-04 15:02:47.513845'), end=Timestamp('2023-02-04 15:02:47.527673'), others=None),\n",
       "  HO(start=Timestamp('2023-02-04 15:02:48.913910'), end=Timestamp('2023-02-04 15:02:48.929111'), others=None),\n",
       "  HO(start=Timestamp('2023-02-04 15:03:12.658791'), end=Timestamp('2023-02-04 15:03:12.672935'), others=None),\n",
       "  HO(start=Timestamp('2023-02-04 15:03:20.804580'), end=Timestamp('2023-02-04 15:03:20.818948'), others=None),\n",
       "  HO(start=Timestamp('2023-02-04 15:03:21.995615'), end=Timestamp('2023-02-04 15:03:22.010808'), others=None),\n",
       "  HO(start=Timestamp('2023-02-04 15:04:14.416458'), end=Timestamp('2023-02-04 15:04:14.431600'), others=None),\n",
       "  HO(start=Timestamp('2023-02-04 15:04:28.552541'), end=Timestamp('2023-02-04 15:04:28.567705'), others=None),\n",
       "  HO(start=Timestamp('2023-02-04 15:04:31.200407'), end=Timestamp('2023-02-04 15:04:31.215531'), others=None),\n",
       "  HO(start=Timestamp('2023-02-04 15:04:39.627560'), end=Timestamp('2023-02-04 15:04:39.642654'), others=None),\n",
       "  HO(start=Timestamp('2023-02-04 15:05:32.171833'), end=Timestamp('2023-02-04 15:05:32.185930'), others=None),\n",
       "  HO(start=Timestamp('2023-02-04 15:05:38.254101'), end=Timestamp('2023-02-04 15:05:38.269244'), others=None),\n",
       "  HO(start=Timestamp('2023-02-04 15:05:40.674144'), end=Timestamp('2023-02-04 15:05:40.689107'), others=None),\n",
       "  HO(start=Timestamp('2023-02-04 15:05:42.824045'), end=Timestamp('2023-02-04 15:05:42.839212'), others=None),\n",
       "  HO(start=Timestamp('2023-02-04 15:06:04.354619'), end=Timestamp('2023-02-04 15:06:04.369141'), others=None),\n",
       "  HO(start=Timestamp('2023-02-04 15:06:08.545001'), end=Timestamp('2023-02-04 15:06:08.559152'), others=None),\n",
       "  HO(start=Timestamp('2023-02-04 15:06:21.712731'), end=Timestamp('2023-02-04 15:06:21.726955'), others=None),\n",
       "  HO(start=Timestamp('2023-02-04 15:06:51.745499'), end=Timestamp('2023-02-04 15:06:51.760012'), others=None)],\n",
       " 'RLF_II': [HO(start=Timestamp('2023-02-04 15:01:58.801959'), end=Timestamp('2023-02-04 15:01:58.881275'), others='handoverFailure (1)')],\n",
       " 'RLF_III': [],\n",
       " 'SCG_RLF': []}"
      ]
     },
     "execution_count": 5,
     "metadata": {},
     "output_type": "execute_result"
    }
   ],
   "source": [
    "A"
   ]
  },
  {
   "cell_type": "markdown",
   "metadata": {},
   "source": []
  },
  {
   "cell_type": "code",
   "execution_count": null,
   "metadata": {},
   "outputs": [],
   "source": [
    "f1 = \"/home/wmnlab/test1.csv\"\n",
    "f2 = \"/home/wmnlab/test2.csv\"\n",
    "f3 = \"/home/wmnlab/test3.csv\"\n",
    "df1 = pd.read_csv(f1)\n",
    "df1[\"Timestamp\"] = df1[\"Timestamp\"].swifter.apply(lambda x: pd.to_datetime(x))\n",
    "df2 = pd.read_csv(f2)\n",
    "df2[\"Timestamp\"] = df2[\"Timestamp\"].swifter.apply(lambda x: pd.to_datetime(x))\n",
    "df3 = pd.read_csv(f3)\n",
    "df3[\"Timestamp\"] = df3[\"Timestamp\"].swifter.apply(lambda x: pd.to_datetime(x))"
   ]
  },
  {
   "cell_type": "code",
   "execution_count": null,
   "metadata": {},
   "outputs": [],
   "source": [
    "a = list(df1[\"lat\"])\n",
    "b = list(df3[\"lat\"])\n",
    "# c = "
   ]
  },
  {
   "cell_type": "code",
   "execution_count": null,
   "metadata": {},
   "outputs": [],
   "source": [
    "def correlations(a, b):\n",
    "    length = len(a) if len(a)<len(b) else len(b)\n",
    "    if length == len(a):\n",
    "        return np.corrcoef(a,b[:len(a)])\n",
    "    else:\n",
    "        return np.corrcoef(a[:len(b)],b)\n",
    "\n",
    "def gps_leg_corres(a, b, search=30): \n",
    "    corres = []\n",
    "    legs = list(range(-search,search+1))\n",
    "    for i in range(-search,search+1):\n",
    "        if i<0:\n",
    "            corres.append(correlations(a[-i:], b[:])[0,1])\n",
    "        else:\n",
    "            corres.append(correlations(a[:], b[i:])[0,1])\n",
    "    index_max = max(range(len(corres)), key=corres.__getitem__)\n",
    "\n",
    "    return legs[index_max]\n"
   ]
  },
  {
   "cell_type": "code",
   "execution_count": null,
   "metadata": {},
   "outputs": [],
   "source": [
    "x = gps_leg_corres(a,b)"
   ]
  },
  {
   "cell_type": "code",
   "execution_count": null,
   "metadata": {},
   "outputs": [],
   "source": [
    "if x < 0:\n",
    "    x1 = list(df1[\"DL-lat\"].iloc[-x:])\n",
    "    x2 = list(df3[\"DL-lat\"].iloc[:])\n",
    "else:\n",
    "    x1 = list(df1[\"DL-lat\"].iloc[:])\n",
    "    x2 = list(df3[\"DL-lat\"].iloc[x:])"
   ]
  },
  {
   "cell_type": "code",
   "execution_count": null,
   "metadata": {},
   "outputs": [],
   "source": [
    "fig, axs = plt.subplots(2,1)\n",
    "axs[0].plot(df1[\"DL-lat\"].iloc[:])\n",
    "axs[1].plot(df3[\"DL-lat\"].iloc[:])"
   ]
  },
  {
   "cell_type": "code",
   "execution_count": null,
   "metadata": {},
   "outputs": [],
   "source": [
    "fig, axs = plt.subplots(2,1)\n",
    "axs[0].plot(x1)\n",
    "axs[1].plot(x2)"
   ]
  },
  {
   "cell_type": "code",
   "execution_count": null,
   "metadata": {},
   "outputs": [],
   "source": []
  }
 ],
 "metadata": {
  "kernelspec": {
   "display_name": "Python 3.8.10 64-bit",
   "language": "python",
   "name": "python3"
  },
  "language_info": {
   "codemirror_mode": {
    "name": "ipython",
    "version": 3
   },
   "file_extension": ".py",
   "mimetype": "text/x-python",
   "name": "python",
   "nbconvert_exporter": "python",
   "pygments_lexer": "ipython3",
   "version": "3.8.10"
  },
  "orig_nbformat": 4,
  "vscode": {
   "interpreter": {
    "hash": "916dbcbb3f70747c44a77c7bcd40155683ae19c65e1c03b4aa3499c5328201f1"
   }
  }
 },
 "nbformat": 4,
 "nbformat_minor": 2
}
