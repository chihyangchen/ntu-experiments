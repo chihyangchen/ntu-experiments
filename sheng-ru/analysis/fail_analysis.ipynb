{
 "cells": [
  {
   "cell_type": "code",
   "execution_count": null,
   "metadata": {},
   "outputs": [],
   "source": [
    "import os\n",
    "import re\n",
    "import json\n",
    "from matplotlib import dates\n",
    "import matplotlib.pyplot as plt\n",
    "# Choose Style\n",
    "# 'classic', 'ggplot', 'seaborn', 'Solarize_Light2', 'bmh', 'fivethirtyeight', 'dark_background', 'grayscale',  \n",
    "plt.style.use('default')\n",
    "\n",
    "from utils import *\n",
    "from pprint import pprint"
   ]
  },
  {
   "cell_type": "markdown",
   "metadata": {},
   "source": [
    "## Find files"
   ]
  },
  {
   "cell_type": "code",
   "execution_count": null,
   "metadata": {},
   "outputs": [],
   "source": [
    "md_files = [\n",
    "    '/home/wmnlab/D/database/2023-08-29/2023-08-29.md', \n",
    "    '/home/wmnlab/D/database/2023-09-12-1/2023-09-12-1.md',\n",
    "    '/home/wmnlab/D/database/2023-09-22/2023-09-22.md',\n",
    "    '/home/wmnlab/D/database/2023-10-24/2023-10-24.md',\n",
    "    # '/home/wmnlab/D/database/2023-11-21/2023-11-21.md',\n",
    "    # '/home/wmnlab/D/database/2023-12-26/2023-12-26.md',\n",
    "    '/home/wmnlab/D/database/2024-03-10/2024-03-10.md',\n",
    "    '/home/wmnlab/D/database/2024-03-16/2024-03-16.md',\n",
    "    '/home/wmnlab/E/database/2024-04-18/2024-04-18.md',\n",
    "    '/home/wmnlab/E/database/2024-05-08/2024-05-08.md'\n",
    "    ]\n",
    "\n",
    "EXPs = get_EXPs(md_files)\n",
    "pprint(EXPs)"
   ]
  },
  {
   "cell_type": "markdown",
   "metadata": {},
   "source": [
    "## Q1. Average $t_{cmd}$ to RRC reconnection"
   ]
  },
  {
   "cell_type": "code",
   "execution_count": null,
   "metadata": {},
   "outputs": [],
   "source": []
  }
 ],
 "metadata": {
  "language_info": {
   "name": "python"
  }
 },
 "nbformat": 4,
 "nbformat_minor": 2
}
