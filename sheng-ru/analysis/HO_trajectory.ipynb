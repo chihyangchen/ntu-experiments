{
 "cells": [
  {
   "cell_type": "code",
   "execution_count": 2,
   "metadata": {},
   "outputs": [],
   "source": [
    "import pandas as pd\n",
    "import datetime as dt\n",
    "import swifter"
   ]
  },
  {
   "cell_type": "code",
   "execution_count": 3,
   "metadata": {},
   "outputs": [],
   "source": [
    "# f = \"/home/wmnlab/diag_log_sm05_2022-12-22_15-02-55.txt_rrc.csv\"\n",
    "f = \"/home/wmnlab/diag_log_sm08_2022-12-22_15-26-10.txt_rrc.csv\"\n",
    "df = pd.read_csv(f)\n",
    "df[\"time\"] = df[\"time\"].swifter.apply(lambda x: pd.to_datetime(x) + dt.timedelta(hours=8))"
   ]
  },
  {
   "cell_type": "code",
   "execution_count": 18,
   "metadata": {},
   "outputs": [],
   "source": [
    "# df.columns"
   ]
  },
  {
   "cell_type": "code",
   "execution_count": 19,
   "metadata": {},
   "outputs": [],
   "source": [
    "def HO_trajectory(df):\n",
    "    def NR_OTA():\n",
    "            if df[\"type_id\"].iloc[i] == \"5G_NR_RRC_OTA_Packet\":\n",
    "                return True\n",
    "            else:\n",
    "                return False\n",
    "\n",
    "    def find_1st_after(target, look_after=1):\n",
    "            for j in range(i, len(df)):\n",
    "                t_ = df[\"time\"].iloc[j]\n",
    "                if (t_ - t).total_seconds() > look_after:\n",
    "                    return None, None\n",
    "                if df[target].iloc[j] not in [0,'0']:\n",
    "                    return t_, j\n",
    "\n",
    "    def find_1st_before(target, look_before=1):\n",
    "        for j in range(i, -1, -1):\n",
    "            t_ = df[\"time\"].iloc[j]\n",
    "            if (t - t_).total_seconds() > look_before:\n",
    "                return None, None\n",
    "            if df[target].iloc[j] not in [0,'0']:\n",
    "                return t_, j\n",
    "\n",
    "\n",
    "    pci_0, freq_0, t_0 = df[\"PCI\"].iloc[0], df[\"Freq\"].iloc[0], df[\"time\"].iloc[0]\n",
    "    print(f\"{t_0} Initial {pci_0} {freq_0}\")\n",
    "    for i in range(len(df)):\n",
    "        if NR_OTA():\n",
    "                continue\n",
    "\n",
    "        t = df[\"time\"].iloc[i]\n",
    "        pci =  df[\"PCI\"].iloc[i]\n",
    "        # print(pci)\n",
    "        others = ''\n",
    "        if df[\"rrcConnectionRelease\"].iloc[i] == 1:\n",
    "            print(f\"{t} RRC Release at {pci}.\")\n",
    "\n",
    "        if df[\"rrcConnectionSetup\"].iloc[i] == 1:\n",
    "            print(f\"{t} CONNECTED setup at {pci}\")\n",
    "\n",
    "        if df[\"lte-rrc.t304\"].iloc[i] == 1:\n",
    "            end, ii = find_1st_after('rrcConnectionReconfigurationComplete')\n",
    "            serv_cell, target_cell = df[\"PCI\"].iloc[i], df['lte_targetPhysCellId'].iloc[i]\n",
    "            serv_freq, target_freq = df[\"Freq\"].iloc[i], df['Freq'].iloc[ii]\n",
    "            if df[\"SCellToAddMod-r10\"].iloc[i] == 1:\n",
    "                n =len(str(df[\"SCellIndex-r10.1\"].iloc[i]).split('@'))\n",
    "                others=f'Set up {n} SCell.'\n",
    "            else:\n",
    "                others=None\n",
    "            \n",
    "            if serv_freq != target_freq:\n",
    "                others += \" Inter freq. HO\"\n",
    "            if df[\"nr-rrc.t304\"].iloc[i] == 1 and df[\"dualConnectivityPHR: setup (1)\"].iloc[i] == 1:\n",
    "                if serv_cell == target_cell and serv_freq == target_freq:\n",
    "                    nr_target_cell = df[\"nr_physCellId\"].iloc[i]\n",
    "                    print(f\"{t} eNB_to_ENDC(NR setup) to {nr_target_cell} | {others}\")\n",
    "                else:\n",
    "                    print(f\"{t} MN_HO {serv_cell} -> {target_cell} | {others}\")\n",
    "            else:\n",
    "                if serv_cell == target_cell and serv_freq == target_freq:\n",
    "                    a, b = find_1st_before(\"scgFailureInformationNR-r15\")\n",
    "                    if a is not None:\n",
    "                        others += \" Caused by scg-failure.\"\n",
    "                    print(f\"{t} gNB_Rel | {others}\")\n",
    "                else:\n",
    "                    print(f\"{t} LTE_HO {serv_cell} -> {target_cell} | {others}\")\n",
    "        \n",
    "        if df[\"nr-rrc.t304\"].iloc[i] == 1 and not df[\"dualConnectivityPHR: setup (1)\"].iloc[i] == 1:\n",
    "            origin_cell = df[\"PCI\"].iloc[i+1]\n",
    "            target_cell = df[\"nr_physCellId\"].iloc[i]\n",
    "            print(f\"{t} gNB_HO {origin_cell} -> {target_cell}\")\n",
    "\n",
    "        if df[\"rrcConnectionReestablishmentRequest\"].iloc[i] == 1:\n",
    "            end, _ = find_1st_after('rrcConnectionReestablishmentComplete', look_after=1)\n",
    "            b, _ = find_1st_after('rrcConnectionReestablishmentReject', look_after=1)\n",
    "            others = df[\"reestablishmentCause\"].iloc[i]\n",
    "            if end is not None: \n",
    "                # Type II\n",
    "                target_cell = df['physCellId.3'].iloc[i]\n",
    "                print(f\"{t} RLF II Failed at {target_cell}, recconected to {pci} | {others}\")\n",
    "            else: \n",
    "                # Type III\n",
    "                print(f\"{t} RLF III {others}\")\n",
    "            \n",
    "        if df[\"scgFailureInformationNR-r15\"].iloc[i] == 1:\n",
    "            others = df[\"failureType-r15\"].iloc[i]\n",
    "            print(f\"{t} SCG RLF | {others}\")"
   ]
  },
  {
   "cell_type": "code",
   "execution_count": 20,
   "metadata": {},
   "outputs": [
    {
     "name": "stdout",
     "output_type": "stream",
     "text": [
      "2022-12-22 15:25:59.047565 Initial 362 1750\n",
      "2022-12-22 15:26:02.088951 gNB_HO 362 -> 350\n",
      "2022-12-22 15:26:35.576641 CONNECTED setup at 362\n",
      "2022-12-22 15:26:35.789162 eNB_to_ENDC(NR setup) to 350 | Set up 1 SCell.\n",
      "2022-12-22 15:26:54.379002 RRC Release at 362.\n",
      "2022-12-22 15:27:08.486496 CONNECTED setup at 362\n",
      "2022-12-22 15:27:08.703003 eNB_to_ENDC(NR setup) to 350 | Set up 1 SCell.\n",
      "2022-12-22 15:29:24.414549 gNB_HO 350 -> 362\n",
      "2022-12-22 15:30:08.291335 MN_HO 362 -> 73 | Set up 1 SCell.\n",
      "2022-12-22 15:30:09.054408 gNB_HO 362 -> 370\n",
      "2022-12-22 15:30:10.607753 MN_HO 73 -> 378 | Set up 1 SCell.\n",
      "2022-12-22 15:30:16.215805 RLF II Failed at 378, recconected to 73 | otherFailure (2)\n",
      "2022-12-22 15:30:16.952106 LTE_HO 73 -> 73 | Set up 1 SCell. Inter freq. HO\n",
      "2022-12-22 15:30:17.104613 eNB_to_ENDC(NR setup) to 73 | Set up 1 SCell.\n",
      "2022-12-22 15:30:50.754038 SCG RLF | rlc-MaxNumRetx (2)\n",
      "2022-12-22 15:30:50.790831 gNB_Rel | Set up 1 SCell. Caused by scg-failure.\n",
      "2022-12-22 15:31:07.281265 LTE_HO 73 -> 16 | None\n",
      "2022-12-22 15:31:12.007934 LTE_HO 16 -> 73 | Set up 1 SCell.\n",
      "2022-12-22 15:31:12.892021 LTE_HO 73 -> 16 | None\n",
      "2022-12-22 15:31:19.990139 LTE_HO 16 -> 180 | Set up 2 SCell.\n",
      "2022-12-22 15:31:33.801620 LTE_HO 180 -> 188 | Set up 2 SCell.\n",
      "2022-12-22 15:32:28.538963 LTE_HO 188 -> 197 | Set up 1 SCell.\n",
      "2022-12-22 15:32:35.141630 LTE_HO 197 -> 205 | Set up 1 SCell.\n",
      "2022-12-22 15:32:54.506513 LTE_HO 205 -> 11 | Set up 2 SCell.\n",
      "2022-12-22 15:33:18.760246 LTE_HO 11 -> 130 | Set up 2 SCell.\n",
      "2022-12-22 15:33:38.114199 LTE_HO 130 -> 122 | Set up 2 SCell.\n"
     ]
    }
   ],
   "source": [
    "HO_trajectory(df)"
   ]
  },
  {
   "cell_type": "code",
   "execution_count": null,
   "metadata": {},
   "outputs": [],
   "source": []
  }
 ],
 "metadata": {
  "kernelspec": {
   "display_name": "Python 3.8.10 64-bit",
   "language": "python",
   "name": "python3"
  },
  "language_info": {
   "codemirror_mode": {
    "name": "ipython",
    "version": 3
   },
   "file_extension": ".py",
   "mimetype": "text/x-python",
   "name": "python",
   "nbconvert_exporter": "python",
   "pygments_lexer": "ipython3",
   "version": "3.8.10 (default, Nov 14 2022, 12:59:47) \n[GCC 9.4.0]"
  },
  "orig_nbformat": 4,
  "vscode": {
   "interpreter": {
    "hash": "916dbcbb3f70747c44a77c7bcd40155683ae19c65e1c03b4aa3499c5328201f1"
   }
  }
 },
 "nbformat": 4,
 "nbformat_minor": 2
}
